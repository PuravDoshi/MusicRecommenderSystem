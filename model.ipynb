{
 "cells": [
  {
   "cell_type": "code",
   "execution_count": 34,
   "id": "45c84d43",
   "metadata": {},
   "outputs": [],
   "source": [
    "import numpy as np \n",
    "import pandas as pd"
   ]
  },
  {
   "cell_type": "code",
   "execution_count": 35,
   "id": "4e9300d8",
   "metadata": {},
   "outputs": [
    {
     "data": {
      "application/vnd.microsoft.datawrangler.viewer.v0+json": {
       "columns": [
        {
         "name": "index",
         "rawType": "int64",
         "type": "integer"
        },
        {
         "name": "artist",
         "rawType": "object",
         "type": "string"
        },
        {
         "name": "song",
         "rawType": "object",
         "type": "string"
        },
        {
         "name": "link",
         "rawType": "object",
         "type": "string"
        },
        {
         "name": "text",
         "rawType": "object",
         "type": "string"
        }
       ],
       "conversionMethod": "pd.DataFrame",
       "ref": "0d244950-7a65-4172-8c98-ab5a664bdeaf",
       "rows": [
        [
         "0",
         "ABBA",
         "Ahe's My Kind Of Girl",
         "/a/abba/ahes+my+kind+of+girl_20598417.html",
         "Look at her face, it's a wonderful face  \r\nAnd it means something special to me  \r\nLook at the way that she smiles when she sees me  \r\nHow lucky can one fellow be?  \r\n  \r\nShe's just my kind of girl, she makes me feel fine  \r\nWho could ever believe that she could be mine?  \r\nShe's just my kind of girl, without her I'm blue  \r\nAnd if she ever leaves me what could I do, what could I do?  \r\n  \r\nAnd when we go for a walk in the park  \r\nAnd she holds me and squeezes my hand  \r\nWe'll go on walking for hours and talking  \r\nAbout all the things that we plan  \r\n  \r\nShe's just my kind of girl, she makes me feel fine  \r\nWho could ever believe that she could be mine?  \r\nShe's just my kind of girl, without her I'm blue  \r\nAnd if she ever leaves me what could I do, what could I do?\r\n\r\n"
        ],
        [
         "1",
         "ABBA",
         "Andante, Andante",
         "/a/abba/andante+andante_20002708.html",
         "Take it easy with me, please  \r\nTouch me gently like a summer evening breeze  \r\nTake your time, make it slow  \r\nAndante, Andante  \r\nJust let the feeling grow  \r\n  \r\nMake your fingers soft and light  \r\nLet your body be the velvet of the night  \r\nTouch my soul, you know how  \r\nAndante, Andante  \r\nGo slowly with me now  \r\n  \r\nI'm your music  \r\n(I am your music and I am your song)  \r\nI'm your song  \r\n(I am your music and I am your song)  \r\nPlay me time and time again and make me strong  \r\n(Play me again 'cause you're making me strong)  \r\nMake me sing, make me sound  \r\n(You make me sing and you make me)  \r\nAndante, Andante  \r\nTread lightly on my ground  \r\nAndante, Andante  \r\nOh please don't let me down  \r\n  \r\nThere's a shimmer in your eyes  \r\nLike the feeling of a thousand butterflies  \r\nPlease don't talk, go on, play  \r\nAndante, Andante  \r\nAnd let me float away  \r\n  \r\nI'm your music  \r\n(I am your music and I am your song)  \r\nI'm your song  \r\n(I am your music and I am your song)  \r\nPlay me time and time again and make me strong  \r\n(Play me again 'cause you're making me strong)  \r\nMake me sing, make me sound  \r\n(You make me sing and you make me)  \r\nAndante, Andante  \r\nTread lightly on my ground  \r\nAndante, Andante  \r\nOh please don't let me down  \r\n  \r\nMake me sing, make me sound  \r\n(You make me sing and you make me)  \r\nAndante, Andante  \r\nTread lightly on my ground  \r\nAndante, Andante  \r\nOh please don't let me down  \r\nAndante, Andante  \r\nOh please don't let me down\r\n\r\n"
        ],
        [
         "2",
         "ABBA",
         "As Good As New",
         "/a/abba/as+good+as+new_20003033.html",
         "I'll never know why I had to go  \r\nWhy I had to put up such a lousy rotten show  \r\nBoy, I was tough, packing all my stuff  \r\nSaying I don't need you anymore, I've had enough  \r\nAnd now, look at me standing here again 'cause I found out that  \r\nMa ma ma ma ma ma ma ma ma ma ma ma ma ma ma ma my life is here  \r\nGotta have you near  \r\n  \r\nAs good as new, my love for you  \r\nAnd keeping it that way is my intention  \r\nAs good as new and growing too  \r\nYes, I think it's taking on a new dimension  \r\nIt's as good as new, my love for you  \r\nJust like it used to be and even better  \r\nAs good as new, thank God it's true  \r\nDarling, we were always meant to stay together  \r\n  \r\nFeel like a creep, never felt so cheap  \r\nNever had a notion that my love could be so deep  \r\nHow could I make such a dumb mistake  \r\nNow I know I'm not entitled to another break  \r\nBut please, baby, I beg you to forgive 'cause I found out that  \r\nMa ma ma ma ma ma ma ma ma ma ma ma ma ma ma ma my life is here  \r\nGotta get you near  \r\n  \r\nI thought that our love was at an end but here I am again  \r\n  \r\nAs good as new, my love for you  \r\nAnd keeping it that way is my intention  \r\nAs good as new and growing too  \r\nYes, I think it's taking on a new dimension  \r\nIt's as good as new, my love for you  \r\nJust like it used to be and even better  \r\nAs good as new, thank God it's true  \r\nDarling, we were always meant to stay together  \r\n  \r\nYes the love I have for you feels as good as new  \r\nDarling, we were always meant to stay together\r\n\r\n"
        ],
        [
         "3",
         "ABBA",
         "Bang",
         "/a/abba/bang_20598415.html",
         "Making somebody happy is a question of give and take  \r\nYou can learn how to show it so come on, give yourself a break  \r\nEvery smile and every little touch  \r\nDon't you know that they mean so much  \r\nSweet sweet kisses so tender  \r\nAlways will return to sender  \r\n  \r\nLike a bang, a boom-a-boomerang  \r\nDum-be-dum-dum be-dum-be-dum-dum  \r\nOh bang, a boom-a-boomerang  \r\nLove is a tune you hum-de-hum-hum  \r\nSo give it away, I think you'll learn  \r\nYou'll get love in return  \r\nSo bang, a boom-a-boomerang is love  \r\nA boom-a-boomerang is love  \r\n  \r\nLove is always around and you can look for it anywhere  \r\nWhen you feel that you've found it my advice is to take good care  \r\nNever use it as a selfish tool  \r\nNever ever be such a fool  \r\nEvery feeling you're showing  \r\nIs a boomerang you're throwing  \r\n  \r\nYes a bang, a boom-a-boomerang  \r\nDum-be-dum-dum be-dum-be-dum-dum  \r\nOh bang, a boom-a-boomerang  \r\nLove is a tune you hum-de-hum-hum  \r\nSo give it away, I think you'll learn  \r\nYou'll get love in return  \r\nSo bang, a boom-a-boomerang is love  \r\n  \r\nAnd if you're warm and tender  \r\nI'll kiss you, return to sender  \r\nPlease surrender  \r\n  \r\nBang, a boom-a-boomerang  \r\nDum-be-dum-dum be-dum-be-dum-dum  \r\nOh bang, a boom-a-boomerang is love  \r\nA boom-a-boomerang is love\r\n\r\n"
        ],
        [
         "4",
         "ABBA",
         "Bang-A-Boomerang",
         "/a/abba/bang+a+boomerang_20002668.html",
         "Making somebody happy is a question of give and take  \r\nYou can learn how to show it so come on, give yourself a break  \r\nEvery smile and every little touch  \r\nDon't you know that they mean so much  \r\nSweet sweet kisses so tender  \r\nAlways will return to sender  \r\n  \r\nLike a bang, a boom-a-boomerang  \r\nDumb-be-dumb-dumb be-dumb-be-dumb-dumb  \r\nOh bang, a boom-a-boomerang  \r\nLove is a tune you hum-de-hum-hum  \r\nBy giving away, I think you'll learn  \r\nYou'll get love in return  \r\nSo bang, a boom-a-boomerang is love  \r\nA boom-a-boomerang is love  \r\n  \r\nLove is always around and you can look for it anywhere  \r\nWhen you feel that you've found it my advice is to take good care  \r\nNever use it as a selfish tool  \r\nNever ever be such a fool  \r\nEvery feeling you're showing  \r\nIs a boomerang you're throwing  \r\n  \r\nYes a bang, a boom-a-boomerang  \r\nDumb-be-dumb-dumb be-dumb-be-dumb-dumb  \r\nOh bang, a boom-a-boomerang  \r\nLove is a tune you hum-de-hum-hum  \r\nBy giving away, I think you'll learn  \r\nYou'll get love in return  \r\nSo bang, a boom-a-boomerang is love  \r\n  \r\nAnd if you're warm and tender  \r\nI'll kiss you, return to sender  \r\nPlease surrender  \r\n  \r\nBang, a boom-a-boomerang  \r\nDumb-be-dumb-dumb be-dumb-be-dumb-dumb  \r\nOh bang, a boom-a-boomerang is love  \r\nA boom-a-boomerang is love\r\n\r\n"
        ]
       ],
       "shape": {
        "columns": 4,
        "rows": 5
       }
      },
      "text/html": [
       "<div>\n",
       "<style scoped>\n",
       "    .dataframe tbody tr th:only-of-type {\n",
       "        vertical-align: middle;\n",
       "    }\n",
       "\n",
       "    .dataframe tbody tr th {\n",
       "        vertical-align: top;\n",
       "    }\n",
       "\n",
       "    .dataframe thead th {\n",
       "        text-align: right;\n",
       "    }\n",
       "</style>\n",
       "<table border=\"1\" class=\"dataframe\">\n",
       "  <thead>\n",
       "    <tr style=\"text-align: right;\">\n",
       "      <th></th>\n",
       "      <th>artist</th>\n",
       "      <th>song</th>\n",
       "      <th>link</th>\n",
       "      <th>text</th>\n",
       "    </tr>\n",
       "  </thead>\n",
       "  <tbody>\n",
       "    <tr>\n",
       "      <th>0</th>\n",
       "      <td>ABBA</td>\n",
       "      <td>Ahe's My Kind Of Girl</td>\n",
       "      <td>/a/abba/ahes+my+kind+of+girl_20598417.html</td>\n",
       "      <td>Look at her face, it's a wonderful face  \\r\\nA...</td>\n",
       "    </tr>\n",
       "    <tr>\n",
       "      <th>1</th>\n",
       "      <td>ABBA</td>\n",
       "      <td>Andante, Andante</td>\n",
       "      <td>/a/abba/andante+andante_20002708.html</td>\n",
       "      <td>Take it easy with me, please  \\r\\nTouch me gen...</td>\n",
       "    </tr>\n",
       "    <tr>\n",
       "      <th>2</th>\n",
       "      <td>ABBA</td>\n",
       "      <td>As Good As New</td>\n",
       "      <td>/a/abba/as+good+as+new_20003033.html</td>\n",
       "      <td>I'll never know why I had to go  \\r\\nWhy I had...</td>\n",
       "    </tr>\n",
       "    <tr>\n",
       "      <th>3</th>\n",
       "      <td>ABBA</td>\n",
       "      <td>Bang</td>\n",
       "      <td>/a/abba/bang_20598415.html</td>\n",
       "      <td>Making somebody happy is a question of give an...</td>\n",
       "    </tr>\n",
       "    <tr>\n",
       "      <th>4</th>\n",
       "      <td>ABBA</td>\n",
       "      <td>Bang-A-Boomerang</td>\n",
       "      <td>/a/abba/bang+a+boomerang_20002668.html</td>\n",
       "      <td>Making somebody happy is a question of give an...</td>\n",
       "    </tr>\n",
       "  </tbody>\n",
       "</table>\n",
       "</div>"
      ],
      "text/plain": [
       "  artist                   song                                        link  \\\n",
       "0   ABBA  Ahe's My Kind Of Girl  /a/abba/ahes+my+kind+of+girl_20598417.html   \n",
       "1   ABBA       Andante, Andante       /a/abba/andante+andante_20002708.html   \n",
       "2   ABBA         As Good As New        /a/abba/as+good+as+new_20003033.html   \n",
       "3   ABBA                   Bang                  /a/abba/bang_20598415.html   \n",
       "4   ABBA       Bang-A-Boomerang      /a/abba/bang+a+boomerang_20002668.html   \n",
       "\n",
       "                                                text  \n",
       "0  Look at her face, it's a wonderful face  \\r\\nA...  \n",
       "1  Take it easy with me, please  \\r\\nTouch me gen...  \n",
       "2  I'll never know why I had to go  \\r\\nWhy I had...  \n",
       "3  Making somebody happy is a question of give an...  \n",
       "4  Making somebody happy is a question of give an...  "
      ]
     },
     "execution_count": 35,
     "metadata": {},
     "output_type": "execute_result"
    }
   ],
   "source": [
    "music_df=pd.read_csv(r'/Users/puravdoshi/Desktop/Music Recommendation System/spotify_millsongdata.csv')\n",
    "music_df.head()"
   ]
  },
  {
   "cell_type": "code",
   "execution_count": 36,
   "id": "e8f37b31",
   "metadata": {},
   "outputs": [
    {
     "data": {
      "text/plain": [
       "(57650, 4)"
      ]
     },
     "execution_count": 36,
     "metadata": {},
     "output_type": "execute_result"
    }
   ],
   "source": [
    "music_df.shape"
   ]
  },
  {
   "cell_type": "code",
   "execution_count": 37,
   "id": "046648bb",
   "metadata": {},
   "outputs": [
    {
     "data": {
      "application/vnd.microsoft.datawrangler.viewer.v0+json": {
       "columns": [
        {
         "name": "index",
         "rawType": "int64",
         "type": "integer"
        },
        {
         "name": "artist",
         "rawType": "object",
         "type": "string"
        },
        {
         "name": "song",
         "rawType": "object",
         "type": "string"
        },
        {
         "name": "text",
         "rawType": "object",
         "type": "string"
        }
       ],
       "conversionMethod": "pd.DataFrame",
       "ref": "d9447614-6dbf-4a6d-8b26-136a1a9f9eb6",
       "rows": [
        [
         "23383",
         "Alice Cooper",
         "Eighteen",
         "Lines form on my face and hands  \r\nLines form from the ups and downs  \r\nI'm in the middle without any plans  \r\nI'm a boy and I'm a man  \r\n  \r\nI'm eighteen  \r\nAnd I don't know what I want  \r\nEighteen  \r\nI just don't know what I want  \r\nEighteen  \r\nI gotta get away  \r\nI gotta get out of this place  \r\nI'll go runnin' in outer space  \r\nOh yeah  \r\n  \r\nI got a  \r\nBaby's brain and an old man's heart  \r\nTook eighteen years to get this far  \r\nDon't always know what I'm talkin' about  \r\nFeels like I'm livin' in the middle of doubt  \r\nCause I'm  \r\n  \r\nEighteen  \r\nI get confused every day  \r\nEighteen  \r\nI just don't know what to say  \r\nEighteen  \r\nI gotta get away  \r\n  \r\nLines form on my face and my hands  \r\nLines form on the left and right  \r\nI'm in the middle  \r\nThe middle of life  \r\nI'm a boy and I'm a man  \r\nI'm eighteen and I like it  \r\nYes I like it  \r\nOh I like it  \r\nLove it  \r\nLike it  \r\nLove it  \r\nEighteen!  \r\nEighteen!  \r\nEighteen!  \r\nEighteen and I like it\r\n\r\n"
        ],
        [
         "4860",
         "Elton John",
         "Chloe",
         "How come you're so understanding  \r\nWhen I tell you all my lies  \r\nAnd pretending to believe them  \r\nSee through all my alibis  \r\nAnd I need you more than ever  \r\nAnd I want you till the end... Chloe  \r\n  \r\nHow you handle what you live through  \r\nI can never hope to learn  \r\nTaking all the pain I give you  \r\nLoving blindly in return  \r\nAnd I need you more than ever  \r\nI will always be your friend  \r\nChloe, Chloe  \r\n  \r\n[Chorus]  \r\nChloe, what you gonna do about me  \r\nChloe, what you gonna do  \r\nWhat you gonna do about me  \r\n  \r\nYou're the lifeline that I cling to  \r\nWhen I feel like giving in  \r\nWhen the dreams that I rely on  \r\nStart to wear a little thin  \r\nThen I need you more than ever  \r\nAnd I want you till the end  \r\nChloe, Chloe  \r\n  \r\n[Chorus]\r\n\r\n"
        ],
        [
         "27899",
         "Christy Moore",
         "Someone To Love",
         "I wish I had someone to love me,  \r\nSomeone to call me his own,  \r\nSomeone to sleep with me nightly,  \r\nI weary of sleeping alone.  \r\nMeet me tonight in the moonlight,  \r\nMeet me tonight all alone,  \r\nI have a sad story to tell you  \r\nI'm telling it under the moon.  \r\nTonight is our last night together,  \r\nNearest and dearest must part,  \r\nThe love that has bound us together  \r\nIs shredded and torn apart.  \r\nI wish I had ships on the ocean  \r\nLined with silver and gold  \r\nFollow the ship that he sails in  \r\nA lad of 19 years-old.  \r\nI wish I had wings of a swallow,  \r\nFly out over the sea  \r\nFly to the arms of my true love  \r\nAnd bring him home safely to me.\r\n\r\n"
        ],
        [
         "51919",
         "Spandau Ballet",
         "Motivator",
         "I can make you feel so good  \r\nHold me by the arm  \r\nI can take your speckles of sweetness  \r\nAnd turn them into stars  \r\nI can make your dreams so real  \r\nJust think what we could do  \r\nOh I could be your messiah  \r\nAnd I'll take you higher  \r\nAnd maybe I won't stop till I do  \r\n'cause I'm your motivator  \r\nI'm behind everything you do  \r\nYes I'm your motivator  \r\nIf your heart is thumping  \r\nI can give you something  \r\nFeel me with the crack of my whip.  \r\nI will be your inspiration  \r\nMovin' in your soul  \r\nI'll be your little bit of muscle  \r\nAnd move and take control  \r\nI can be just simple persuasion  \r\nSo take me as your guide  \r\nBut when your mind is cooking  \r\nRemember who's looking  \r\n'cause baby I'm that something inside  \r\n'cause I'm your motivator  \r\nI'm behind everything you do  \r\nYes I'm your motivator  \r\nIf your head is reeling  \r\nGet off on this feeling  \r\nHold me now and shoot from the hip.  \r\nDo do do  \r\nYou give something something I need.  \r\n\r\n"
        ],
        [
         "14552",
         "O.A.R.",
         "Risen",
         "I'm not quite sure how I got here  \r\nA minute passed and I'm on my feet  \r\nI never knew life could taste so good  \r\nI need a little minute, just a moment to breathe  \r\nNo matter where I go, no matter who I see  \r\nWell I'm reminded of my earlier days  \r\nNo matter where I roll, no matter what I know  \r\nWell I'm reminded of my earlier ways  \r\nBut now I keep asking myself  \r\n  \r\nWouldn't it be the best damn day  \r\nIf we all took time to breathe?  \r\nJust one stolen paragraph  \r\nIn the book's written history  \r\nDon't you sometimes wonder why  \r\nPeople are afraid to smile?  \r\nDon't look down we're gonna come around  \r\nAnd it always come to  \r\nback, crack of time eventually  \r\nJust ascend with me  \r\n  \r\nI'm not quite sure when I woke up  \r\nThe night flew by as I lay asleep  \r\nWho ever knew that life could feel so good?  \r\nI need another minute  \r\nJust a moment to breathe  \r\nNo matter where I go, no matter who I see  \r\nWell I'm reminded of my earlier days  \r\nNo matter what I know, no matter where I roll  \r\nWell I'm reminded of my earlier ways  \r\nBut now I keep asking myself  \r\nWouldn't it be the best damn day  \r\nIf we all took time to breathe?  \r\nJust one stolen paragraph  \r\nIn the book's written history  \r\nDon't you sometimes wonder why  \r\nPeople are afraid to smile?  \r\nDon't look down we're gonna come around and it always come to back,  \r\ncrack of time eventually  \r\n  \r\nWouldn't it be the best damn day?  \r\nWouldn't it be a wonderful day?  \r\nWouldn't it be a glorious day?  \r\nIf we all took time to smile,  \r\nMade just a minute for you and me  \r\nWouldn't it be the best damn day?\r\n\r\n"
        ]
       ],
       "shape": {
        "columns": 3,
        "rows": 5
       }
      },
      "text/html": [
       "<div>\n",
       "<style scoped>\n",
       "    .dataframe tbody tr th:only-of-type {\n",
       "        vertical-align: middle;\n",
       "    }\n",
       "\n",
       "    .dataframe tbody tr th {\n",
       "        vertical-align: top;\n",
       "    }\n",
       "\n",
       "    .dataframe thead th {\n",
       "        text-align: right;\n",
       "    }\n",
       "</style>\n",
       "<table border=\"1\" class=\"dataframe\">\n",
       "  <thead>\n",
       "    <tr style=\"text-align: right;\">\n",
       "      <th></th>\n",
       "      <th>artist</th>\n",
       "      <th>song</th>\n",
       "      <th>text</th>\n",
       "    </tr>\n",
       "  </thead>\n",
       "  <tbody>\n",
       "    <tr>\n",
       "      <th>23383</th>\n",
       "      <td>Alice Cooper</td>\n",
       "      <td>Eighteen</td>\n",
       "      <td>Lines form on my face and hands  \\r\\nLines for...</td>\n",
       "    </tr>\n",
       "    <tr>\n",
       "      <th>4860</th>\n",
       "      <td>Elton John</td>\n",
       "      <td>Chloe</td>\n",
       "      <td>How come you're so understanding  \\r\\nWhen I t...</td>\n",
       "    </tr>\n",
       "    <tr>\n",
       "      <th>27899</th>\n",
       "      <td>Christy Moore</td>\n",
       "      <td>Someone To Love</td>\n",
       "      <td>I wish I had someone to love me,  \\r\\nSomeone ...</td>\n",
       "    </tr>\n",
       "    <tr>\n",
       "      <th>51919</th>\n",
       "      <td>Spandau Ballet</td>\n",
       "      <td>Motivator</td>\n",
       "      <td>I can make you feel so good  \\r\\nHold me by th...</td>\n",
       "    </tr>\n",
       "    <tr>\n",
       "      <th>14552</th>\n",
       "      <td>O.A.R.</td>\n",
       "      <td>Risen</td>\n",
       "      <td>I'm not quite sure how I got here  \\r\\nA minut...</td>\n",
       "    </tr>\n",
       "  </tbody>\n",
       "</table>\n",
       "</div>"
      ],
      "text/plain": [
       "               artist             song  \\\n",
       "23383    Alice Cooper         Eighteen   \n",
       "4860       Elton John            Chloe   \n",
       "27899   Christy Moore  Someone To Love   \n",
       "51919  Spandau Ballet        Motivator   \n",
       "14552          O.A.R.            Risen   \n",
       "\n",
       "                                                    text  \n",
       "23383  Lines form on my face and hands  \\r\\nLines for...  \n",
       "4860   How come you're so understanding  \\r\\nWhen I t...  \n",
       "27899  I wish I had someone to love me,  \\r\\nSomeone ...  \n",
       "51919  I can make you feel so good  \\r\\nHold me by th...  \n",
       "14552  I'm not quite sure how I got here  \\r\\nA minut...  "
      ]
     },
     "execution_count": 37,
     "metadata": {},
     "output_type": "execute_result"
    }
   ],
   "source": [
    "music_df=music_df.drop(columns=['link'])\n",
    "music_df.sample(5)"
   ]
  },
  {
   "cell_type": "code",
   "execution_count": 38,
   "id": "ae34baa0",
   "metadata": {},
   "outputs": [
    {
     "data": {
      "text/plain": [
       "artist    0\n",
       "song      0\n",
       "text      0\n",
       "dtype: int64"
      ]
     },
     "execution_count": 38,
     "metadata": {},
     "output_type": "execute_result"
    }
   ],
   "source": [
    "music_df.isnull().sum()"
   ]
  },
  {
   "cell_type": "code",
   "execution_count": 39,
   "id": "6336d852",
   "metadata": {},
   "outputs": [
    {
     "data": {
      "text/plain": [
       "0"
      ]
     },
     "execution_count": 39,
     "metadata": {},
     "output_type": "execute_result"
    }
   ],
   "source": [
    "music_df.duplicated().sum()"
   ]
  },
  {
   "cell_type": "code",
   "execution_count": 40,
   "id": "8e2ff358",
   "metadata": {},
   "outputs": [
    {
     "name": "stdout",
     "output_type": "stream",
     "text": [
      "<class 'pandas.core.frame.DataFrame'>\n",
      "RangeIndex: 57650 entries, 0 to 57649\n",
      "Data columns (total 3 columns):\n",
      " #   Column  Non-Null Count  Dtype \n",
      "---  ------  --------------  ----- \n",
      " 0   artist  57650 non-null  object\n",
      " 1   song    57650 non-null  object\n",
      " 2   text    57650 non-null  object\n",
      "dtypes: object(3)\n",
      "memory usage: 1.3+ MB\n"
     ]
    }
   ],
   "source": [
    "music_df.info()"
   ]
  },
  {
   "cell_type": "code",
   "execution_count": 41,
   "id": "36be9963",
   "metadata": {},
   "outputs": [
    {
     "data": {
      "text/plain": [
       "str"
      ]
     },
     "execution_count": 41,
     "metadata": {},
     "output_type": "execute_result"
    }
   ],
   "source": [
    "type(music_df['artist'][5])"
   ]
  },
  {
   "cell_type": "code",
   "execution_count": 42,
   "id": "c12ce729",
   "metadata": {},
   "outputs": [
    {
     "data": {
      "application/vnd.microsoft.datawrangler.viewer.v0+json": {
       "columns": [
        {
         "name": "index",
         "rawType": "int64",
         "type": "integer"
        },
        {
         "name": "song",
         "rawType": "object",
         "type": "string"
        },
        {
         "name": "tags",
         "rawType": "object",
         "type": "string"
        }
       ],
       "conversionMethod": "pd.DataFrame",
       "ref": "d145e194-a4e3-4832-9998-701d84d506c7",
       "rows": [
        [
         "0",
         "Ahe's My Kind Of Girl",
         "Look at her face, it's a wonderful face  \r\nAnd it means something special to me  \r\nLook at the way that she smiles when she sees me  \r\nHow lucky can one fellow be?  \r\n  \r\nShe's just my kind of girl, she makes me feel fine  \r\nWho could ever believe that she could be mine?  \r\nShe's just my kind of girl, without her I'm blue  \r\nAnd if she ever leaves me what could I do, what could I do?  \r\n  \r\nAnd when we go for a walk in the park  \r\nAnd she holds me and squeezes my hand  \r\nWe'll go on walking for hours and talking  \r\nAbout all the things that we plan  \r\n  \r\nShe's just my kind of girl, she makes me feel fine  \r\nWho could ever believe that she could be mine?  \r\nShe's just my kind of girl, without her I'm blue  \r\nAnd if she ever leaves me what could I do, what could I do?\r\n\r\nABBA"
        ],
        [
         "1",
         "Andante, Andante",
         "Take it easy with me, please  \r\nTouch me gently like a summer evening breeze  \r\nTake your time, make it slow  \r\nAndante, Andante  \r\nJust let the feeling grow  \r\n  \r\nMake your fingers soft and light  \r\nLet your body be the velvet of the night  \r\nTouch my soul, you know how  \r\nAndante, Andante  \r\nGo slowly with me now  \r\n  \r\nI'm your music  \r\n(I am your music and I am your song)  \r\nI'm your song  \r\n(I am your music and I am your song)  \r\nPlay me time and time again and make me strong  \r\n(Play me again 'cause you're making me strong)  \r\nMake me sing, make me sound  \r\n(You make me sing and you make me)  \r\nAndante, Andante  \r\nTread lightly on my ground  \r\nAndante, Andante  \r\nOh please don't let me down  \r\n  \r\nThere's a shimmer in your eyes  \r\nLike the feeling of a thousand butterflies  \r\nPlease don't talk, go on, play  \r\nAndante, Andante  \r\nAnd let me float away  \r\n  \r\nI'm your music  \r\n(I am your music and I am your song)  \r\nI'm your song  \r\n(I am your music and I am your song)  \r\nPlay me time and time again and make me strong  \r\n(Play me again 'cause you're making me strong)  \r\nMake me sing, make me sound  \r\n(You make me sing and you make me)  \r\nAndante, Andante  \r\nTread lightly on my ground  \r\nAndante, Andante  \r\nOh please don't let me down  \r\n  \r\nMake me sing, make me sound  \r\n(You make me sing and you make me)  \r\nAndante, Andante  \r\nTread lightly on my ground  \r\nAndante, Andante  \r\nOh please don't let me down  \r\nAndante, Andante  \r\nOh please don't let me down\r\n\r\nABBA"
        ],
        [
         "2",
         "As Good As New",
         "I'll never know why I had to go  \r\nWhy I had to put up such a lousy rotten show  \r\nBoy, I was tough, packing all my stuff  \r\nSaying I don't need you anymore, I've had enough  \r\nAnd now, look at me standing here again 'cause I found out that  \r\nMa ma ma ma ma ma ma ma ma ma ma ma ma ma ma ma my life is here  \r\nGotta have you near  \r\n  \r\nAs good as new, my love for you  \r\nAnd keeping it that way is my intention  \r\nAs good as new and growing too  \r\nYes, I think it's taking on a new dimension  \r\nIt's as good as new, my love for you  \r\nJust like it used to be and even better  \r\nAs good as new, thank God it's true  \r\nDarling, we were always meant to stay together  \r\n  \r\nFeel like a creep, never felt so cheap  \r\nNever had a notion that my love could be so deep  \r\nHow could I make such a dumb mistake  \r\nNow I know I'm not entitled to another break  \r\nBut please, baby, I beg you to forgive 'cause I found out that  \r\nMa ma ma ma ma ma ma ma ma ma ma ma ma ma ma ma my life is here  \r\nGotta get you near  \r\n  \r\nI thought that our love was at an end but here I am again  \r\n  \r\nAs good as new, my love for you  \r\nAnd keeping it that way is my intention  \r\nAs good as new and growing too  \r\nYes, I think it's taking on a new dimension  \r\nIt's as good as new, my love for you  \r\nJust like it used to be and even better  \r\nAs good as new, thank God it's true  \r\nDarling, we were always meant to stay together  \r\n  \r\nYes the love I have for you feels as good as new  \r\nDarling, we were always meant to stay together\r\n\r\nABBA"
        ],
        [
         "3",
         "Bang",
         "Making somebody happy is a question of give and take  \r\nYou can learn how to show it so come on, give yourself a break  \r\nEvery smile and every little touch  \r\nDon't you know that they mean so much  \r\nSweet sweet kisses so tender  \r\nAlways will return to sender  \r\n  \r\nLike a bang, a boom-a-boomerang  \r\nDum-be-dum-dum be-dum-be-dum-dum  \r\nOh bang, a boom-a-boomerang  \r\nLove is a tune you hum-de-hum-hum  \r\nSo give it away, I think you'll learn  \r\nYou'll get love in return  \r\nSo bang, a boom-a-boomerang is love  \r\nA boom-a-boomerang is love  \r\n  \r\nLove is always around and you can look for it anywhere  \r\nWhen you feel that you've found it my advice is to take good care  \r\nNever use it as a selfish tool  \r\nNever ever be such a fool  \r\nEvery feeling you're showing  \r\nIs a boomerang you're throwing  \r\n  \r\nYes a bang, a boom-a-boomerang  \r\nDum-be-dum-dum be-dum-be-dum-dum  \r\nOh bang, a boom-a-boomerang  \r\nLove is a tune you hum-de-hum-hum  \r\nSo give it away, I think you'll learn  \r\nYou'll get love in return  \r\nSo bang, a boom-a-boomerang is love  \r\n  \r\nAnd if you're warm and tender  \r\nI'll kiss you, return to sender  \r\nPlease surrender  \r\n  \r\nBang, a boom-a-boomerang  \r\nDum-be-dum-dum be-dum-be-dum-dum  \r\nOh bang, a boom-a-boomerang is love  \r\nA boom-a-boomerang is love\r\n\r\nABBA"
        ],
        [
         "4",
         "Bang-A-Boomerang",
         "Making somebody happy is a question of give and take  \r\nYou can learn how to show it so come on, give yourself a break  \r\nEvery smile and every little touch  \r\nDon't you know that they mean so much  \r\nSweet sweet kisses so tender  \r\nAlways will return to sender  \r\n  \r\nLike a bang, a boom-a-boomerang  \r\nDumb-be-dumb-dumb be-dumb-be-dumb-dumb  \r\nOh bang, a boom-a-boomerang  \r\nLove is a tune you hum-de-hum-hum  \r\nBy giving away, I think you'll learn  \r\nYou'll get love in return  \r\nSo bang, a boom-a-boomerang is love  \r\nA boom-a-boomerang is love  \r\n  \r\nLove is always around and you can look for it anywhere  \r\nWhen you feel that you've found it my advice is to take good care  \r\nNever use it as a selfish tool  \r\nNever ever be such a fool  \r\nEvery feeling you're showing  \r\nIs a boomerang you're throwing  \r\n  \r\nYes a bang, a boom-a-boomerang  \r\nDumb-be-dumb-dumb be-dumb-be-dumb-dumb  \r\nOh bang, a boom-a-boomerang  \r\nLove is a tune you hum-de-hum-hum  \r\nBy giving away, I think you'll learn  \r\nYou'll get love in return  \r\nSo bang, a boom-a-boomerang is love  \r\n  \r\nAnd if you're warm and tender  \r\nI'll kiss you, return to sender  \r\nPlease surrender  \r\n  \r\nBang, a boom-a-boomerang  \r\nDumb-be-dumb-dumb be-dumb-be-dumb-dumb  \r\nOh bang, a boom-a-boomerang is love  \r\nA boom-a-boomerang is love\r\n\r\nABBA"
        ]
       ],
       "shape": {
        "columns": 2,
        "rows": 5
       }
      },
      "text/html": [
       "<div>\n",
       "<style scoped>\n",
       "    .dataframe tbody tr th:only-of-type {\n",
       "        vertical-align: middle;\n",
       "    }\n",
       "\n",
       "    .dataframe tbody tr th {\n",
       "        vertical-align: top;\n",
       "    }\n",
       "\n",
       "    .dataframe thead th {\n",
       "        text-align: right;\n",
       "    }\n",
       "</style>\n",
       "<table border=\"1\" class=\"dataframe\">\n",
       "  <thead>\n",
       "    <tr style=\"text-align: right;\">\n",
       "      <th></th>\n",
       "      <th>song</th>\n",
       "      <th>tags</th>\n",
       "    </tr>\n",
       "  </thead>\n",
       "  <tbody>\n",
       "    <tr>\n",
       "      <th>0</th>\n",
       "      <td>Ahe's My Kind Of Girl</td>\n",
       "      <td>Look at her face, it's a wonderful face  \\r\\nA...</td>\n",
       "    </tr>\n",
       "    <tr>\n",
       "      <th>1</th>\n",
       "      <td>Andante, Andante</td>\n",
       "      <td>Take it easy with me, please  \\r\\nTouch me gen...</td>\n",
       "    </tr>\n",
       "    <tr>\n",
       "      <th>2</th>\n",
       "      <td>As Good As New</td>\n",
       "      <td>I'll never know why I had to go  \\r\\nWhy I had...</td>\n",
       "    </tr>\n",
       "    <tr>\n",
       "      <th>3</th>\n",
       "      <td>Bang</td>\n",
       "      <td>Making somebody happy is a question of give an...</td>\n",
       "    </tr>\n",
       "    <tr>\n",
       "      <th>4</th>\n",
       "      <td>Bang-A-Boomerang</td>\n",
       "      <td>Making somebody happy is a question of give an...</td>\n",
       "    </tr>\n",
       "  </tbody>\n",
       "</table>\n",
       "</div>"
      ],
      "text/plain": [
       "                    song                                               tags\n",
       "0  Ahe's My Kind Of Girl  Look at her face, it's a wonderful face  \\r\\nA...\n",
       "1       Andante, Andante  Take it easy with me, please  \\r\\nTouch me gen...\n",
       "2         As Good As New  I'll never know why I had to go  \\r\\nWhy I had...\n",
       "3                   Bang  Making somebody happy is a question of give an...\n",
       "4       Bang-A-Boomerang  Making somebody happy is a question of give an..."
      ]
     },
     "execution_count": 42,
     "metadata": {},
     "output_type": "execute_result"
    }
   ],
   "source": [
    "music_df['tags'] = music_df['text'] + music_df['artist'] \n",
    "new_df = music_df.drop(columns=['artist','text'])\n",
    "new_df.head()"
   ]
  },
  {
   "cell_type": "code",
   "execution_count": 43,
   "id": "ca6d79c1",
   "metadata": {},
   "outputs": [
    {
     "data": {
      "application/vnd.microsoft.datawrangler.viewer.v0+json": {
       "columns": [
        {
         "name": "index",
         "rawType": "int64",
         "type": "integer"
        },
        {
         "name": "song",
         "rawType": "object",
         "type": "string"
        },
        {
         "name": "tags",
         "rawType": "object",
         "type": "unknown"
        }
       ],
       "conversionMethod": "pd.DataFrame",
       "ref": "985d4fd8-cb37-4c0e-870a-b7e7b3f460be",
       "rows": [
        [
         "0",
         "Ahe's My Kind Of Girl",
         "['Look', 'at', 'her', 'face,', \"it's\", 'a', 'wonderful', 'face', 'And', 'it', 'means', 'something', 'special', 'to', 'me', 'Look', 'at', 'the', 'way', 'that', 'she', 'smiles', 'when', 'she', 'sees', 'me', 'How', 'lucky', 'can', 'one', 'fellow', 'be?', \"She's\", 'just', 'my', 'kind', 'of', 'girl,', 'she', 'makes', 'me', 'feel', 'fine', 'Who', 'could', 'ever', 'believe', 'that', 'she', 'could', 'be', 'mine?', \"She's\", 'just', 'my', 'kind', 'of', 'girl,', 'without', 'her', \"I'm\", 'blue', 'And', 'if', 'she', 'ever', 'leaves', 'me', 'what', 'could', 'I', 'do,', 'what', 'could', 'I', 'do?', 'And', 'when', 'we', 'go', 'for', 'a', 'walk', 'in', 'the', 'park', 'And', 'she', 'holds', 'me', 'and', 'squeezes', 'my', 'hand', \"We'll\", 'go', 'on', 'walking', 'for', 'hours', 'and', 'talking', 'About', 'all', 'the', 'things', 'that', 'we', 'plan', \"She's\", 'just', 'my', 'kind', 'of', 'girl,', 'she', 'makes', 'me', 'feel', 'fine', 'Who', 'could', 'ever', 'believe', 'that', 'she', 'could', 'be', 'mine?', \"She's\", 'just', 'my', 'kind', 'of', 'girl,', 'without', 'her', \"I'm\", 'blue', 'And', 'if', 'she', 'ever', 'leaves', 'me', 'what', 'could', 'I', 'do,', 'what', 'could', 'I', 'do?', 'ABBA']"
        ],
        [
         "1",
         "Andante, Andante",
         "['Take', 'it', 'easy', 'with', 'me,', 'please', 'Touch', 'me', 'gently', 'like', 'a', 'summer', 'evening', 'breeze', 'Take', 'your', 'time,', 'make', 'it', 'slow', 'Andante,', 'Andante', 'Just', 'let', 'the', 'feeling', 'grow', 'Make', 'your', 'fingers', 'soft', 'and', 'light', 'Let', 'your', 'body', 'be', 'the', 'velvet', 'of', 'the', 'night', 'Touch', 'my', 'soul,', 'you', 'know', 'how', 'Andante,', 'Andante', 'Go', 'slowly', 'with', 'me', 'now', \"I'm\", 'your', 'music', '(I', 'am', 'your', 'music', 'and', 'I', 'am', 'your', 'song)', \"I'm\", 'your', 'song', '(I', 'am', 'your', 'music', 'and', 'I', 'am', 'your', 'song)', 'Play', 'me', 'time', 'and', 'time', 'again', 'and', 'make', 'me', 'strong', '(Play', 'me', 'again', \"'cause\", \"you're\", 'making', 'me', 'strong)', 'Make', 'me', 'sing,', 'make', 'me', 'sound', '(You', 'make', 'me', 'sing', 'and', 'you', 'make', 'me)', 'Andante,', 'Andante', 'Tread', 'lightly', 'on', 'my', 'ground', 'Andante,', 'Andante', 'Oh', 'please', \"don't\", 'let', 'me', 'down', \"There's\", 'a', 'shimmer', 'in', 'your', 'eyes', 'Like', 'the', 'feeling', 'of', 'a', 'thousand', 'butterflies', 'Please', \"don't\", 'talk,', 'go', 'on,', 'play', 'Andante,', 'Andante', 'And', 'let', 'me', 'float', 'away', \"I'm\", 'your', 'music', '(I', 'am', 'your', 'music', 'and', 'I', 'am', 'your', 'song)', \"I'm\", 'your', 'song', '(I', 'am', 'your', 'music', 'and', 'I', 'am', 'your', 'song)', 'Play', 'me', 'time', 'and', 'time', 'again', 'and', 'make', 'me', 'strong', '(Play', 'me', 'again', \"'cause\", \"you're\", 'making', 'me', 'strong)', 'Make', 'me', 'sing,', 'make', 'me', 'sound', '(You', 'make', 'me', 'sing', 'and', 'you', 'make', 'me)', 'Andante,', 'Andante', 'Tread', 'lightly', 'on', 'my', 'ground', 'Andante,', 'Andante', 'Oh', 'please', \"don't\", 'let', 'me', 'down', 'Make', 'me', 'sing,', 'make', 'me', 'sound', '(You', 'make', 'me', 'sing', 'and', 'you', 'make', 'me)', 'Andante,', 'Andante', 'Tread', 'lightly', 'on', 'my', 'ground', 'Andante,', 'Andante', 'Oh', 'please', \"don't\", 'let', 'me', 'down', 'Andante,', 'Andante', 'Oh', 'please', \"don't\", 'let', 'me', 'down', 'ABBA']"
        ],
        [
         "2",
         "As Good As New",
         "[\"I'll\", 'never', 'know', 'why', 'I', 'had', 'to', 'go', 'Why', 'I', 'had', 'to', 'put', 'up', 'such', 'a', 'lousy', 'rotten', 'show', 'Boy,', 'I', 'was', 'tough,', 'packing', 'all', 'my', 'stuff', 'Saying', 'I', \"don't\", 'need', 'you', 'anymore,', \"I've\", 'had', 'enough', 'And', 'now,', 'look', 'at', 'me', 'standing', 'here', 'again', \"'cause\", 'I', 'found', 'out', 'that', 'Ma', 'ma', 'ma', 'ma', 'ma', 'ma', 'ma', 'ma', 'ma', 'ma', 'ma', 'ma', 'ma', 'ma', 'ma', 'ma', 'my', 'life', 'is', 'here', 'Gotta', 'have', 'you', 'near', 'As', 'good', 'as', 'new,', 'my', 'love', 'for', 'you', 'And', 'keeping', 'it', 'that', 'way', 'is', 'my', 'intention', 'As', 'good', 'as', 'new', 'and', 'growing', 'too', 'Yes,', 'I', 'think', \"it's\", 'taking', 'on', 'a', 'new', 'dimension', \"It's\", 'as', 'good', 'as', 'new,', 'my', 'love', 'for', 'you', 'Just', 'like', 'it', 'used', 'to', 'be', 'and', 'even', 'better', 'As', 'good', 'as', 'new,', 'thank', 'God', \"it's\", 'true', 'Darling,', 'we', 'were', 'always', 'meant', 'to', 'stay', 'together', 'Feel', 'like', 'a', 'creep,', 'never', 'felt', 'so', 'cheap', 'Never', 'had', 'a', 'notion', 'that', 'my', 'love', 'could', 'be', 'so', 'deep', 'How', 'could', 'I', 'make', 'such', 'a', 'dumb', 'mistake', 'Now', 'I', 'know', \"I'm\", 'not', 'entitled', 'to', 'another', 'break', 'But', 'please,', 'baby,', 'I', 'beg', 'you', 'to', 'forgive', \"'cause\", 'I', 'found', 'out', 'that', 'Ma', 'ma', 'ma', 'ma', 'ma', 'ma', 'ma', 'ma', 'ma', 'ma', 'ma', 'ma', 'ma', 'ma', 'ma', 'ma', 'my', 'life', 'is', 'here', 'Gotta', 'get', 'you', 'near', 'I', 'thought', 'that', 'our', 'love', 'was', 'at', 'an', 'end', 'but', 'here', 'I', 'am', 'again', 'As', 'good', 'as', 'new,', 'my', 'love', 'for', 'you', 'And', 'keeping', 'it', 'that', 'way', 'is', 'my', 'intention', 'As', 'good', 'as', 'new', 'and', 'growing', 'too', 'Yes,', 'I', 'think', \"it's\", 'taking', 'on', 'a', 'new', 'dimension', \"It's\", 'as', 'good', 'as', 'new,', 'my', 'love', 'for', 'you', 'Just', 'like', 'it', 'used', 'to', 'be', 'and', 'even', 'better', 'As', 'good', 'as', 'new,', 'thank', 'God', \"it's\", 'true', 'Darling,', 'we', 'were', 'always', 'meant', 'to', 'stay', 'together', 'Yes', 'the', 'love', 'I', 'have', 'for', 'you', 'feels', 'as', 'good', 'as', 'new', 'Darling,', 'we', 'were', 'always', 'meant', 'to', 'stay', 'together', 'ABBA']"
        ],
        [
         "3",
         "Bang",
         "['Making', 'somebody', 'happy', 'is', 'a', 'question', 'of', 'give', 'and', 'take', 'You', 'can', 'learn', 'how', 'to', 'show', 'it', 'so', 'come', 'on,', 'give', 'yourself', 'a', 'break', 'Every', 'smile', 'and', 'every', 'little', 'touch', \"Don't\", 'you', 'know', 'that', 'they', 'mean', 'so', 'much', 'Sweet', 'sweet', 'kisses', 'so', 'tender', 'Always', 'will', 'return', 'to', 'sender', 'Like', 'a', 'bang,', 'a', 'boom-a-boomerang', 'Dum-be-dum-dum', 'be-dum-be-dum-dum', 'Oh', 'bang,', 'a', 'boom-a-boomerang', 'Love', 'is', 'a', 'tune', 'you', 'hum-de-hum-hum', 'So', 'give', 'it', 'away,', 'I', 'think', \"you'll\", 'learn', \"You'll\", 'get', 'love', 'in', 'return', 'So', 'bang,', 'a', 'boom-a-boomerang', 'is', 'love', 'A', 'boom-a-boomerang', 'is', 'love', 'Love', 'is', 'always', 'around', 'and', 'you', 'can', 'look', 'for', 'it', 'anywhere', 'When', 'you', 'feel', 'that', \"you've\", 'found', 'it', 'my', 'advice', 'is', 'to', 'take', 'good', 'care', 'Never', 'use', 'it', 'as', 'a', 'selfish', 'tool', 'Never', 'ever', 'be', 'such', 'a', 'fool', 'Every', 'feeling', \"you're\", 'showing', 'Is', 'a', 'boomerang', \"you're\", 'throwing', 'Yes', 'a', 'bang,', 'a', 'boom-a-boomerang', 'Dum-be-dum-dum', 'be-dum-be-dum-dum', 'Oh', 'bang,', 'a', 'boom-a-boomerang', 'Love', 'is', 'a', 'tune', 'you', 'hum-de-hum-hum', 'So', 'give', 'it', 'away,', 'I', 'think', \"you'll\", 'learn', \"You'll\", 'get', 'love', 'in', 'return', 'So', 'bang,', 'a', 'boom-a-boomerang', 'is', 'love', 'And', 'if', \"you're\", 'warm', 'and', 'tender', \"I'll\", 'kiss', 'you,', 'return', 'to', 'sender', 'Please', 'surrender', 'Bang,', 'a', 'boom-a-boomerang', 'Dum-be-dum-dum', 'be-dum-be-dum-dum', 'Oh', 'bang,', 'a', 'boom-a-boomerang', 'is', 'love', 'A', 'boom-a-boomerang', 'is', 'love', 'ABBA']"
        ],
        [
         "4",
         "Bang-A-Boomerang",
         "['Making', 'somebody', 'happy', 'is', 'a', 'question', 'of', 'give', 'and', 'take', 'You', 'can', 'learn', 'how', 'to', 'show', 'it', 'so', 'come', 'on,', 'give', 'yourself', 'a', 'break', 'Every', 'smile', 'and', 'every', 'little', 'touch', \"Don't\", 'you', 'know', 'that', 'they', 'mean', 'so', 'much', 'Sweet', 'sweet', 'kisses', 'so', 'tender', 'Always', 'will', 'return', 'to', 'sender', 'Like', 'a', 'bang,', 'a', 'boom-a-boomerang', 'Dumb-be-dumb-dumb', 'be-dumb-be-dumb-dumb', 'Oh', 'bang,', 'a', 'boom-a-boomerang', 'Love', 'is', 'a', 'tune', 'you', 'hum-de-hum-hum', 'By', 'giving', 'away,', 'I', 'think', \"you'll\", 'learn', \"You'll\", 'get', 'love', 'in', 'return', 'So', 'bang,', 'a', 'boom-a-boomerang', 'is', 'love', 'A', 'boom-a-boomerang', 'is', 'love', 'Love', 'is', 'always', 'around', 'and', 'you', 'can', 'look', 'for', 'it', 'anywhere', 'When', 'you', 'feel', 'that', \"you've\", 'found', 'it', 'my', 'advice', 'is', 'to', 'take', 'good', 'care', 'Never', 'use', 'it', 'as', 'a', 'selfish', 'tool', 'Never', 'ever', 'be', 'such', 'a', 'fool', 'Every', 'feeling', \"you're\", 'showing', 'Is', 'a', 'boomerang', \"you're\", 'throwing', 'Yes', 'a', 'bang,', 'a', 'boom-a-boomerang', 'Dumb-be-dumb-dumb', 'be-dumb-be-dumb-dumb', 'Oh', 'bang,', 'a', 'boom-a-boomerang', 'Love', 'is', 'a', 'tune', 'you', 'hum-de-hum-hum', 'By', 'giving', 'away,', 'I', 'think', \"you'll\", 'learn', \"You'll\", 'get', 'love', 'in', 'return', 'So', 'bang,', 'a', 'boom-a-boomerang', 'is', 'love', 'And', 'if', \"you're\", 'warm', 'and', 'tender', \"I'll\", 'kiss', 'you,', 'return', 'to', 'sender', 'Please', 'surrender', 'Bang,', 'a', 'boom-a-boomerang', 'Dumb-be-dumb-dumb', 'be-dumb-be-dumb-dumb', 'Oh', 'bang,', 'a', 'boom-a-boomerang', 'is', 'love', 'A', 'boom-a-boomerang', 'is', 'love', 'ABBA']"
        ]
       ],
       "shape": {
        "columns": 2,
        "rows": 5
       }
      },
      "text/html": [
       "<div>\n",
       "<style scoped>\n",
       "    .dataframe tbody tr th:only-of-type {\n",
       "        vertical-align: middle;\n",
       "    }\n",
       "\n",
       "    .dataframe tbody tr th {\n",
       "        vertical-align: top;\n",
       "    }\n",
       "\n",
       "    .dataframe thead th {\n",
       "        text-align: right;\n",
       "    }\n",
       "</style>\n",
       "<table border=\"1\" class=\"dataframe\">\n",
       "  <thead>\n",
       "    <tr style=\"text-align: right;\">\n",
       "      <th></th>\n",
       "      <th>song</th>\n",
       "      <th>tags</th>\n",
       "    </tr>\n",
       "  </thead>\n",
       "  <tbody>\n",
       "    <tr>\n",
       "      <th>0</th>\n",
       "      <td>Ahe's My Kind Of Girl</td>\n",
       "      <td>[Look, at, her, face,, it's, a, wonderful, fac...</td>\n",
       "    </tr>\n",
       "    <tr>\n",
       "      <th>1</th>\n",
       "      <td>Andante, Andante</td>\n",
       "      <td>[Take, it, easy, with, me,, please, Touch, me,...</td>\n",
       "    </tr>\n",
       "    <tr>\n",
       "      <th>2</th>\n",
       "      <td>As Good As New</td>\n",
       "      <td>[I'll, never, know, why, I, had, to, go, Why, ...</td>\n",
       "    </tr>\n",
       "    <tr>\n",
       "      <th>3</th>\n",
       "      <td>Bang</td>\n",
       "      <td>[Making, somebody, happy, is, a, question, of,...</td>\n",
       "    </tr>\n",
       "    <tr>\n",
       "      <th>4</th>\n",
       "      <td>Bang-A-Boomerang</td>\n",
       "      <td>[Making, somebody, happy, is, a, question, of,...</td>\n",
       "    </tr>\n",
       "  </tbody>\n",
       "</table>\n",
       "</div>"
      ],
      "text/plain": [
       "                    song                                               tags\n",
       "0  Ahe's My Kind Of Girl  [Look, at, her, face,, it's, a, wonderful, fac...\n",
       "1       Andante, Andante  [Take, it, easy, with, me,, please, Touch, me,...\n",
       "2         As Good As New  [I'll, never, know, why, I, had, to, go, Why, ...\n",
       "3                   Bang  [Making, somebody, happy, is, a, question, of,...\n",
       "4       Bang-A-Boomerang  [Making, somebody, happy, is, a, question, of,..."
      ]
     },
     "execution_count": 43,
     "metadata": {},
     "output_type": "execute_result"
    }
   ],
   "source": [
    "new_df['tags'] = new_df['tags'].apply(lambda x:x.split())\n",
    "new_df.head()"
   ]
  },
  {
   "cell_type": "code",
   "execution_count": 44,
   "id": "c88c03ec",
   "metadata": {},
   "outputs": [
    {
     "data": {
      "text/plain": [
       "['Take',\n",
       " 'it',\n",
       " 'easy',\n",
       " 'with',\n",
       " 'me,',\n",
       " 'please',\n",
       " 'Touch',\n",
       " 'me',\n",
       " 'gently',\n",
       " 'like',\n",
       " 'a',\n",
       " 'summer',\n",
       " 'evening',\n",
       " 'breeze',\n",
       " 'Take',\n",
       " 'your',\n",
       " 'time,',\n",
       " 'make',\n",
       " 'it',\n",
       " 'slow',\n",
       " 'Andante,',\n",
       " 'Andante',\n",
       " 'Just',\n",
       " 'let',\n",
       " 'the',\n",
       " 'feeling',\n",
       " 'grow',\n",
       " 'Make',\n",
       " 'your',\n",
       " 'fingers',\n",
       " 'soft',\n",
       " 'and',\n",
       " 'light',\n",
       " 'Let',\n",
       " 'your',\n",
       " 'body',\n",
       " 'be',\n",
       " 'the',\n",
       " 'velvet',\n",
       " 'of',\n",
       " 'the',\n",
       " 'night',\n",
       " 'Touch',\n",
       " 'my',\n",
       " 'soul,',\n",
       " 'you',\n",
       " 'know',\n",
       " 'how',\n",
       " 'Andante,',\n",
       " 'Andante',\n",
       " 'Go',\n",
       " 'slowly',\n",
       " 'with',\n",
       " 'me',\n",
       " 'now',\n",
       " \"I'm\",\n",
       " 'your',\n",
       " 'music',\n",
       " '(I',\n",
       " 'am',\n",
       " 'your',\n",
       " 'music',\n",
       " 'and',\n",
       " 'I',\n",
       " 'am',\n",
       " 'your',\n",
       " 'song)',\n",
       " \"I'm\",\n",
       " 'your',\n",
       " 'song',\n",
       " '(I',\n",
       " 'am',\n",
       " 'your',\n",
       " 'music',\n",
       " 'and',\n",
       " 'I',\n",
       " 'am',\n",
       " 'your',\n",
       " 'song)',\n",
       " 'Play',\n",
       " 'me',\n",
       " 'time',\n",
       " 'and',\n",
       " 'time',\n",
       " 'again',\n",
       " 'and',\n",
       " 'make',\n",
       " 'me',\n",
       " 'strong',\n",
       " '(Play',\n",
       " 'me',\n",
       " 'again',\n",
       " \"'cause\",\n",
       " \"you're\",\n",
       " 'making',\n",
       " 'me',\n",
       " 'strong)',\n",
       " 'Make',\n",
       " 'me',\n",
       " 'sing,',\n",
       " 'make',\n",
       " 'me',\n",
       " 'sound',\n",
       " '(You',\n",
       " 'make',\n",
       " 'me',\n",
       " 'sing',\n",
       " 'and',\n",
       " 'you',\n",
       " 'make',\n",
       " 'me)',\n",
       " 'Andante,',\n",
       " 'Andante',\n",
       " 'Tread',\n",
       " 'lightly',\n",
       " 'on',\n",
       " 'my',\n",
       " 'ground',\n",
       " 'Andante,',\n",
       " 'Andante',\n",
       " 'Oh',\n",
       " 'please',\n",
       " \"don't\",\n",
       " 'let',\n",
       " 'me',\n",
       " 'down',\n",
       " \"There's\",\n",
       " 'a',\n",
       " 'shimmer',\n",
       " 'in',\n",
       " 'your',\n",
       " 'eyes',\n",
       " 'Like',\n",
       " 'the',\n",
       " 'feeling',\n",
       " 'of',\n",
       " 'a',\n",
       " 'thousand',\n",
       " 'butterflies',\n",
       " 'Please',\n",
       " \"don't\",\n",
       " 'talk,',\n",
       " 'go',\n",
       " 'on,',\n",
       " 'play',\n",
       " 'Andante,',\n",
       " 'Andante',\n",
       " 'And',\n",
       " 'let',\n",
       " 'me',\n",
       " 'float',\n",
       " 'away',\n",
       " \"I'm\",\n",
       " 'your',\n",
       " 'music',\n",
       " '(I',\n",
       " 'am',\n",
       " 'your',\n",
       " 'music',\n",
       " 'and',\n",
       " 'I',\n",
       " 'am',\n",
       " 'your',\n",
       " 'song)',\n",
       " \"I'm\",\n",
       " 'your',\n",
       " 'song',\n",
       " '(I',\n",
       " 'am',\n",
       " 'your',\n",
       " 'music',\n",
       " 'and',\n",
       " 'I',\n",
       " 'am',\n",
       " 'your',\n",
       " 'song)',\n",
       " 'Play',\n",
       " 'me',\n",
       " 'time',\n",
       " 'and',\n",
       " 'time',\n",
       " 'again',\n",
       " 'and',\n",
       " 'make',\n",
       " 'me',\n",
       " 'strong',\n",
       " '(Play',\n",
       " 'me',\n",
       " 'again',\n",
       " \"'cause\",\n",
       " \"you're\",\n",
       " 'making',\n",
       " 'me',\n",
       " 'strong)',\n",
       " 'Make',\n",
       " 'me',\n",
       " 'sing,',\n",
       " 'make',\n",
       " 'me',\n",
       " 'sound',\n",
       " '(You',\n",
       " 'make',\n",
       " 'me',\n",
       " 'sing',\n",
       " 'and',\n",
       " 'you',\n",
       " 'make',\n",
       " 'me)',\n",
       " 'Andante,',\n",
       " 'Andante',\n",
       " 'Tread',\n",
       " 'lightly',\n",
       " 'on',\n",
       " 'my',\n",
       " 'ground',\n",
       " 'Andante,',\n",
       " 'Andante',\n",
       " 'Oh',\n",
       " 'please',\n",
       " \"don't\",\n",
       " 'let',\n",
       " 'me',\n",
       " 'down',\n",
       " 'Make',\n",
       " 'me',\n",
       " 'sing,',\n",
       " 'make',\n",
       " 'me',\n",
       " 'sound',\n",
       " '(You',\n",
       " 'make',\n",
       " 'me',\n",
       " 'sing',\n",
       " 'and',\n",
       " 'you',\n",
       " 'make',\n",
       " 'me)',\n",
       " 'Andante,',\n",
       " 'Andante',\n",
       " 'Tread',\n",
       " 'lightly',\n",
       " 'on',\n",
       " 'my',\n",
       " 'ground',\n",
       " 'Andante,',\n",
       " 'Andante',\n",
       " 'Oh',\n",
       " 'please',\n",
       " \"don't\",\n",
       " 'let',\n",
       " 'me',\n",
       " 'down',\n",
       " 'Andante,',\n",
       " 'Andante',\n",
       " 'Oh',\n",
       " 'please',\n",
       " \"don't\",\n",
       " 'let',\n",
       " 'me',\n",
       " 'down',\n",
       " 'ABBA']"
      ]
     },
     "execution_count": 44,
     "metadata": {},
     "output_type": "execute_result"
    }
   ],
   "source": [
    "new_df['tags'][1]"
   ]
  },
  {
   "cell_type": "code",
   "execution_count": 45,
   "id": "007036f0",
   "metadata": {},
   "outputs": [
    {
     "data": {
      "application/vnd.microsoft.datawrangler.viewer.v0+json": {
       "columns": [
        {
         "name": "index",
         "rawType": "int64",
         "type": "integer"
        },
        {
         "name": "song",
         "rawType": "object",
         "type": "string"
        },
        {
         "name": "tags",
         "rawType": "object",
         "type": "string"
        }
       ],
       "conversionMethod": "pd.DataFrame",
       "ref": "4e5ed237-8fba-4c22-8805-1f96eab3a3ad",
       "rows": [
        [
         "0",
         "Ahe's My Kind Of Girl",
         "Look at her face, it's a wonderful face And it means something special to me Look at the way that she smiles when she sees me How lucky can one fellow be? She's just my kind of girl, she makes me feel fine Who could ever believe that she could be mine? She's just my kind of girl, without her I'm blue And if she ever leaves me what could I do, what could I do? And when we go for a walk in the park And she holds me and squeezes my hand We'll go on walking for hours and talking About all the things that we plan She's just my kind of girl, she makes me feel fine Who could ever believe that she could be mine? She's just my kind of girl, without her I'm blue And if she ever leaves me what could I do, what could I do? ABBA"
        ],
        [
         "1",
         "Andante, Andante",
         "Take it easy with me, please Touch me gently like a summer evening breeze Take your time, make it slow Andante, Andante Just let the feeling grow Make your fingers soft and light Let your body be the velvet of the night Touch my soul, you know how Andante, Andante Go slowly with me now I'm your music (I am your music and I am your song) I'm your song (I am your music and I am your song) Play me time and time again and make me strong (Play me again 'cause you're making me strong) Make me sing, make me sound (You make me sing and you make me) Andante, Andante Tread lightly on my ground Andante, Andante Oh please don't let me down There's a shimmer in your eyes Like the feeling of a thousand butterflies Please don't talk, go on, play Andante, Andante And let me float away I'm your music (I am your music and I am your song) I'm your song (I am your music and I am your song) Play me time and time again and make me strong (Play me again 'cause you're making me strong) Make me sing, make me sound (You make me sing and you make me) Andante, Andante Tread lightly on my ground Andante, Andante Oh please don't let me down Make me sing, make me sound (You make me sing and you make me) Andante, Andante Tread lightly on my ground Andante, Andante Oh please don't let me down Andante, Andante Oh please don't let me down ABBA"
        ],
        [
         "2",
         "As Good As New",
         "I'll never know why I had to go Why I had to put up such a lousy rotten show Boy, I was tough, packing all my stuff Saying I don't need you anymore, I've had enough And now, look at me standing here again 'cause I found out that Ma ma ma ma ma ma ma ma ma ma ma ma ma ma ma ma my life is here Gotta have you near As good as new, my love for you And keeping it that way is my intention As good as new and growing too Yes, I think it's taking on a new dimension It's as good as new, my love for you Just like it used to be and even better As good as new, thank God it's true Darling, we were always meant to stay together Feel like a creep, never felt so cheap Never had a notion that my love could be so deep How could I make such a dumb mistake Now I know I'm not entitled to another break But please, baby, I beg you to forgive 'cause I found out that Ma ma ma ma ma ma ma ma ma ma ma ma ma ma ma ma my life is here Gotta get you near I thought that our love was at an end but here I am again As good as new, my love for you And keeping it that way is my intention As good as new and growing too Yes, I think it's taking on a new dimension It's as good as new, my love for you Just like it used to be and even better As good as new, thank God it's true Darling, we were always meant to stay together Yes the love I have for you feels as good as new Darling, we were always meant to stay together ABBA"
        ],
        [
         "3",
         "Bang",
         "Making somebody happy is a question of give and take You can learn how to show it so come on, give yourself a break Every smile and every little touch Don't you know that they mean so much Sweet sweet kisses so tender Always will return to sender Like a bang, a boom-a-boomerang Dum-be-dum-dum be-dum-be-dum-dum Oh bang, a boom-a-boomerang Love is a tune you hum-de-hum-hum So give it away, I think you'll learn You'll get love in return So bang, a boom-a-boomerang is love A boom-a-boomerang is love Love is always around and you can look for it anywhere When you feel that you've found it my advice is to take good care Never use it as a selfish tool Never ever be such a fool Every feeling you're showing Is a boomerang you're throwing Yes a bang, a boom-a-boomerang Dum-be-dum-dum be-dum-be-dum-dum Oh bang, a boom-a-boomerang Love is a tune you hum-de-hum-hum So give it away, I think you'll learn You'll get love in return So bang, a boom-a-boomerang is love And if you're warm and tender I'll kiss you, return to sender Please surrender Bang, a boom-a-boomerang Dum-be-dum-dum be-dum-be-dum-dum Oh bang, a boom-a-boomerang is love A boom-a-boomerang is love ABBA"
        ],
        [
         "4",
         "Bang-A-Boomerang",
         "Making somebody happy is a question of give and take You can learn how to show it so come on, give yourself a break Every smile and every little touch Don't you know that they mean so much Sweet sweet kisses so tender Always will return to sender Like a bang, a boom-a-boomerang Dumb-be-dumb-dumb be-dumb-be-dumb-dumb Oh bang, a boom-a-boomerang Love is a tune you hum-de-hum-hum By giving away, I think you'll learn You'll get love in return So bang, a boom-a-boomerang is love A boom-a-boomerang is love Love is always around and you can look for it anywhere When you feel that you've found it my advice is to take good care Never use it as a selfish tool Never ever be such a fool Every feeling you're showing Is a boomerang you're throwing Yes a bang, a boom-a-boomerang Dumb-be-dumb-dumb be-dumb-be-dumb-dumb Oh bang, a boom-a-boomerang Love is a tune you hum-de-hum-hum By giving away, I think you'll learn You'll get love in return So bang, a boom-a-boomerang is love And if you're warm and tender I'll kiss you, return to sender Please surrender Bang, a boom-a-boomerang Dumb-be-dumb-dumb be-dumb-be-dumb-dumb Oh bang, a boom-a-boomerang is love A boom-a-boomerang is love ABBA"
        ]
       ],
       "shape": {
        "columns": 2,
        "rows": 5
       }
      },
      "text/html": [
       "<div>\n",
       "<style scoped>\n",
       "    .dataframe tbody tr th:only-of-type {\n",
       "        vertical-align: middle;\n",
       "    }\n",
       "\n",
       "    .dataframe tbody tr th {\n",
       "        vertical-align: top;\n",
       "    }\n",
       "\n",
       "    .dataframe thead th {\n",
       "        text-align: right;\n",
       "    }\n",
       "</style>\n",
       "<table border=\"1\" class=\"dataframe\">\n",
       "  <thead>\n",
       "    <tr style=\"text-align: right;\">\n",
       "      <th></th>\n",
       "      <th>song</th>\n",
       "      <th>tags</th>\n",
       "    </tr>\n",
       "  </thead>\n",
       "  <tbody>\n",
       "    <tr>\n",
       "      <th>0</th>\n",
       "      <td>Ahe's My Kind Of Girl</td>\n",
       "      <td>Look at her face, it's a wonderful face And it...</td>\n",
       "    </tr>\n",
       "    <tr>\n",
       "      <th>1</th>\n",
       "      <td>Andante, Andante</td>\n",
       "      <td>Take it easy with me, please Touch me gently l...</td>\n",
       "    </tr>\n",
       "    <tr>\n",
       "      <th>2</th>\n",
       "      <td>As Good As New</td>\n",
       "      <td>I'll never know why I had to go Why I had to p...</td>\n",
       "    </tr>\n",
       "    <tr>\n",
       "      <th>3</th>\n",
       "      <td>Bang</td>\n",
       "      <td>Making somebody happy is a question of give an...</td>\n",
       "    </tr>\n",
       "    <tr>\n",
       "      <th>4</th>\n",
       "      <td>Bang-A-Boomerang</td>\n",
       "      <td>Making somebody happy is a question of give an...</td>\n",
       "    </tr>\n",
       "  </tbody>\n",
       "</table>\n",
       "</div>"
      ],
      "text/plain": [
       "                    song                                               tags\n",
       "0  Ahe's My Kind Of Girl  Look at her face, it's a wonderful face And it...\n",
       "1       Andante, Andante  Take it easy with me, please Touch me gently l...\n",
       "2         As Good As New  I'll never know why I had to go Why I had to p...\n",
       "3                   Bang  Making somebody happy is a question of give an...\n",
       "4       Bang-A-Boomerang  Making somebody happy is a question of give an..."
      ]
     },
     "execution_count": 45,
     "metadata": {},
     "output_type": "execute_result"
    }
   ],
   "source": [
    "new_df['tags'] = new_df['tags'].apply(lambda x: \" \".join(x))\n",
    "new_df.head()"
   ]
  },
  {
   "cell_type": "code",
   "execution_count": 46,
   "id": "9e63216a",
   "metadata": {},
   "outputs": [
    {
     "data": {
      "application/vnd.microsoft.datawrangler.viewer.v0+json": {
       "columns": [
        {
         "name": "index",
         "rawType": "int64",
         "type": "integer"
        },
        {
         "name": "song",
         "rawType": "object",
         "type": "string"
        },
        {
         "name": "tags",
         "rawType": "object",
         "type": "string"
        }
       ],
       "conversionMethod": "pd.DataFrame",
       "ref": "e84acbd5-fcca-4aa0-aa6d-7529c24741b8",
       "rows": [
        [
         "0",
         "Right Or Wrong",
         "Like to have you 'round With all the lies that you make The things or darkness and you Some people say, have just a taste Right or wrong, you might get burned What you gain is what you learn Got one too many women Don't know quite which way to go They're all gettin' so expensive When they walk by themselves Right or wrong, don't regret What you went for is what you get No point in bitter tears When someone else has cut you down 'Cause there's a time for leavin' And there's a time for stickin' around, hey Right or wrong, you've got to live So what you collect is what you give Wishbone Ash"
        ],
        [
         "1",
         "This Little Light Of Mine",
         "This Little Light of Mine (Light of Mine), I'm Let it shine (Aleilujah), This Little Light of Mine, I'm gonna let it shine, Down in my heart (In my heart), I'm gonna let it shine (Aleilujah) Down in my heart (In My heart) I'm gonna let it, let it shine. All over the world (All over the world), I'm gonna let it shine (Let it shine, let it shine let it shine) Let it shine, let it shine, let it shine, let it shine Aerosmith"
        ],
        [
         "2",
         "Dance, Dance",
         "She says she's no good with words but I'm worse Barely stuttered out A joke of a romantic stuck to my tongue And weighed down with words too overdramatic Tonight it's \"it can't get much worse\" Vs. \"no one should ever feel like..\" I'm two quarters and a heart down And I don't want to forget how your voice sounds These words are all I have so I write them I need them just to get by Dance, dance We're falling apart to half time Dance, dance And these are the lives you love to lead Dance this is the way they'd look If they knew how misery loved me You always fold just before you're found out Drink up its last call Last resort But only the first mistake and I I'm two quarters and a heart down And I don't want to forget how your voice sounds These words are all I have so I write them I need them just to get by Why don't you show me a little bit of spine You've been saving for his mattress (love) Dance, dance We're falling apart to half time Dance, dance And these are the lives you love to lead Dance this is the way they'd look If they knew how misery loved me Why don't you show me a little bit of spine You've been saving for his mattress (with love) I only want sympathy in the form of you crawling into bed with me Dance, dance, we're falling apart to half time Dance, dance, and these are the lives you love to lead Dance this is the way they'd look If they knew how misery loved me Fall Out Boy"
        ],
        [
         "3",
         "Easy Rider",
         "Hey mama, mama, come a look at sister, She's a-standing on the levee trying to do that twist, But easy rider don't you deny my name, Oh no, oh no. Well, I got a girl with a diamond ring, I'll tell you, boys, she knows how to shake that thing. Oh! Easy rider don't you deny my name, Oh no, oh no. Play it! Well, I got a horse and he lives in a tree, He watches Huckleberry Hound on his tv. But easy rider don't you deny my name, Oh no, oh no. I would buy you a plastic suit And I would even buy you some cardboard fruit. Oh! But easy rider don't you deny my name, Oh no, oh no. Yeah, easy rider, don't you deny my name, pretty baby doll I said, easy rider, don't you deny my name, pretty baby doll I said, easy rider, don't you deny my name, pretty baby doll I said, easy rider, don't you deny my name, pretty baby... Janis Joplin"
        ],
        [
         "4",
         "Peak Hour",
         "I see it all through my window it seems. Never failing, like millions of eels. All that is wrong, No time to be won. Only to do What can be done. Peak hour, Peak hour, Peak hour. Minds are subject to what should be done. Problem solved, time cannot be won. One hour a day, One hour a night Sees crowds of people Home-aimed for flight. Peak hour, Peak hour, Peak hour. It makes me want to run out and tell them They've got time. Take a step back out and warn them I've found out I've got time. Minds are subject to what should be done. Problem solved, time cannot be won. One hour a day, One hour a night Sees crowds of people Home-aimed for flight. Peak hour, Peak hour, Peak hour. Moody Blues"
        ],
        [
         "5",
         "Crazier",
         "The more I take a look inside, the more I'm fried The more I understand the ride, the more I slide The more you put me back in line, the more I tried The more you looked into my eyes, the more you lied I come back crazier, but feel much better You come back crazier, you'll feel better The more I disregard the signs, the more I fly The more I walk across the lines, the more I glide You come back crazier, but feel much better You come back crazier, you'll feel better You come back crazier, but feel much better You come back crazier, you'll feel better Gary Numan"
        ],
        [
         "6",
         "Temptation",
         "We got it all but it ain't enough No, we're never ever happy with what we got I see that look on your face, you know I've seen that look before Don't you be fooled baby, you gonna show It's just Temptation, Whoa... Temptation Temptation Whoa... Must be Temptation Too far to fall but we always do Though we swore in our hearts to be true You say that hand that your holdin' feels a little cold sometime Baby sooner or later, you're gonna find that true love.. Is just like Temptation, Whoa... Temptation Temptation Whoa... Feels like Temptation Now listen here... Whoa... Temptation Whoa... Temptation Whoa.... We want it all and we want it fast No time to think, no time to ask But you know that road that we're on don't always lead to happiness You can count on it baby It's a pretty good guess now all we got Is just Temptation, Whoa... Temptation Temptation Whoa... Feels like Temptation Temptation Whoa... Looks like Temptation Temptation -- Must be Temptation Yeah Pat Benatar"
        ],
        [
         "7",
         "Kiss Me At Midnight",
         "Kiss me at midnight 5...4...3...2...1 Kiss me at midnight Dance into the morning light Party into the new year All of my friends are here and when the time is right Kiss me at midnight (kiss) I've been waiting for this special night To be with you The colors of Christmas are still shining bright And I know what we're gonna do Anticipating Music is playing The magic is in the air All through the season You've been the reason I have so much love to share Kiss me at midnight Dance into the morning light Party into the new year All of my friends are here and when the time is right Kiss me at midnight (kiss) We've been making promises in the dark Our resolutions As a brand new year is about to start And we're together Celebrating No more waiting Our time has arrived Feel the beat of my heart As the countdown starts Just look into my eyes Kiss me at midnight Dance into the morning light Party into the new year All of my friends are here and when the time is right Kiss me at midnight (kiss) Baby it's New Years Eve A time we can believe In making wishes Dreams come true Just for me and you Kiss me at midnight Dance into the morning light Party into the new year All of my friends are here and when the time is right Kiss me at midnight (kiss) Kiss me at midnight Dance into the morning light Party into the new year All of my friends are here and when the time is right Kiss me at midnight (kiss) 'n Sync"
        ],
        [
         "8",
         "Little Black Sandals",
         "I'm being dragged down, down by the hand The hand of a golden giant man He's crushing my knuckles Splitting my skin, he says he will If only I'd ask it of him He says Girl, it's your call You wanna fly You wanna fall So I shout I wanna get away from you As fast as I can I tell my feet to move it I hope they have a plan [Chorus] These little black sandals Are walking me away These little black sandals Are heading the right way These little black sandals Are walking me away These little black sandals Saved my life today So now I'm free Free From the big bad giant Who was stalking me Thank you feet, for guiding me I'm glad somehow I got brains down there, at least [Chorus] Sometimes I'm tempted Sometimes I am I would be lying if I said I didn't miss that giant man He was the line between pleasure and pain But me and the feet have some years to reclaim [Chorus] Sia"
        ],
        [
         "9",
         "I Keep Dreaming Of You All The Time",
         "In my dreams an old friend came to see you Right from the start he was the stealing kind You'll never know how much it hurt me darling The night you left his loving on your mind I keep dreaming of you all the time Then and only then you're really mine There's sadness when you go away and I face another day Yet I keep dreaming of you all the time [ fiddle ] Last night again I dreamed we were together I held you close the way I used to do I kissed your lips and said I found my heaven You whispered low how much you love me too I keep dreaming of you... Hank Snow"
        ],
        [
         "10",
         "Blood In My Eyes",
         "Woke up this morning, feeling blue Seen a good looking girl, can I make love with you Hey, hey, babe, I got blood in my eyes for you Hey, hey, babe, I got blood in my eyes for you I got blood in my eyes for you, baby I don't care what in the world you do. I went back home, put on my tie Gonna get that girl that money will buy Hey, hey, babe, I got blood in my eyes for you Hey, hey, babe, I got blood in my eyes for you I got blood in my eyes for you, baby I don't care what in the world you do. She looked at me, begin to smile Said, \"Hey, hey, man, can't you wait a little while?\" No, no babe, I got blood in my eyes for you No, no babe, I got blood in my eyes for you Got blood in my eyes for you, baby I don't care what in the world you do. No, no, ma'am, I can't wait You got my money, now you're trying to break this date Hey, hey, babe, I got blood in my eyes for you Hey, hey, babe, I got blood in my eyes for you Got blood in my eyes for you, baby I don't care what in the world you do. I'll tell you something, tell you the facts You don't want to give my money back Hey, hey, babe, I got blood in my eyes for you Hey, hey, babe, I got blood in my eyes for you I got blood in my eyes for you, baby I don't care what in the world you do Marianne Faithfull"
        ],
        [
         "11",
         "I Am I",
         "Beating with life you promised life, Security, happiness. Unfortunate son cornered, Cowering in the pit of Circling panes of glass that Surround and reveal the ever present \"It\". \"It\" is my move, my every look, Interpreting gestures, Informing other What's undercover and Lurking beneath my mask Of this year's featured model. Is this too much? Close your eyes. Care to look inside? I am I! What may appear Might easily be explained, But given the situation Of info saturation, What you feel can never go away. Steering perception? I am! Inviting contradiction? I am! It's my insistence You keep your distance From the glare behind my stare. So this is the way The game is played. You can leave now... But I think you'll stay. I am I! Queensryche"
        ],
        [
         "12",
         "Hold On",
         "There's blacks with knives and whites with guns fighting in Howard Beach There's no such thing as human rights when you walk the N.Y. streets A cop was shot in the head by a 10 year old kid named Buddah in Central Park last week The fathers are lined up by the coffins by the Statue of Bigotry You better hold on something's happening here You better hold on---meet you in Tompkins Square The dopers sent a message to the cops last weekend They shot him in the car where he sat And Eleanor Bumpres and Michael Stewart must have appreciated that There's a rampaging rage rising up like a plague of bloody vials washing up on the beach It'll take more than the Angels or Iron Mike Tyson to heal this bloody breach A junkie ran down a lady a pregnant dancer she'll never dance but the baby was saved He shot up some China White and nodded out at the wheel and he doesn't even remember a thing They shot that old lady 'cause they thought she was a witness to a crime she didn't even see Whose home is the home of the brave by the Statue of Bigotry You got a black .38 and a gravity knife You still have to ride the train There's the smelly essence of N.Y. down there but you ain't no Bernard Goetz There's no Mafia lawyer to fight in your corner for that 15 minutes of fame The have and the have nots are bleeding in the tub That's New York's future not mine Oh you better hold on---something's happening here. Lou Reed"
        ],
        [
         "13",
         "Pinball Cha Cha",
         "Welcome In Lucy's Bar Hey you gentlemen over there Come on closer See me play The sensational game It's the only thing I've got in my life And I play it every day And, well, believe it or not, It's just, pinball And for me it's Claro Que Si Claro Que Si Come, come close to me I tell you man you will see I'm like happy tree Come close and then you will see Every ball for me's another game For you this always looks the same Every ball for me's another game For you this always looks the same Hey you, man you watch me Might be right I am a fool But man why don't you tell me If you know a better tool All the gates are lit This is very good for me It's like a kiss Watch out man and you will see Now all lights are on Believe me man that I have won I know for you this doesn't look a lot For me this is the only thing I got I really couldn't care less If you take me a for a fool I know you couldn't show me Any better tool Oy oy oy I like my toy Claro que si Is yes for sure Oy oy oy I like my toy A knack inside I win another game I press the button and it's not the same Yello"
        ],
        [
         "14",
         "Kill It",
         "I'm your maker Mold your mind Idea-creator Bias from behind People never wonder How the world goes round They who care go under That's what I'm about I kill it, kill it, kill it Kill it, kill it Care must die Kill it, kill it, kill it What we can't tie What we can't buy Must die I'm soul hunter Of the might Upright hatemonger Angel of the blind People never wonder How the world goes round They who care go under That's what I'm about I kill it, kill it, kill it Kill it, kill it Care must die Kill it, kill it, kill it People never wonder How the world goes round They who know must follow They who don't die bound I pay billions All got a price Plain corruption No roll of the dice People never wonder How the world goes round They who care go under That's what I'm about I kill it, kill it, kill it Kill it, kill it Care must die Kill it, kill it, kill it What we can't tie What we can't buy Must die Helloween"
        ],
        [
         "15",
         "I Feel For You",
         "Something inside, My heart, And it feels like magic, It's changing my life. Since you came to me, Everything is so bright I see You touched my heart, And gave me love so real. This time around I wanna let it show There's something special, In my heart you ought to know I feel for you, I mean I truly love you In my heart and in my soul You are my love You are my all I feel for you I mean always love you Because to me You are a dream Come true Love grows Everyday And it's hard to deny it You inspire me all the way The joy you bring Makes my heart keep on singing And all I wanna do Is to remain close to you This time around I wanna let it show There's something special In my heart you ought to know I feel for you I mean I truly love you In my heart and in my soul You are my love you are my all I feel for you I mean I'll always love you Because to me you are a dream Come true You are my angel in disguise You are the reason I survive With you each moment is worthwhile You make me smile And if without you Surely I cry I feel for you I mean I truly love you In my heart and in my soul You are my love you are my all I feel for you I mean I'll always love you Because to me you are a dream(3x) That's what I feel for you... Kyla"
        ],
        [
         "16",
         "Dareh Meyod",
         "Tuesday's coming my baby I told you Wednesday morning It's not too late for us My bags aren't out the door baby don't you know life's a feeling But without you it's nothing It's not too late for us My bags aren't out the door baby Tuesday's coming and I'm not gonna leave you here darling It's a shame you can't hear me Scream my lungs out believe me The miles burn me up I'm living just to watch your fire darling I'm headed out for the road now The engines hold me while sleeping A road might take me away But its sure enough to bring me home baby Tuesday's coming And I'm not gonna leave you here darling Tuesday's coming. O.A.R."
        ],
        [
         "17",
         "Right Where I Am",
         "Subways runnin' under the city Condos reachin' to the sky Each of this own, but I feel at home Standing on this mountain high And right where I am Is where I want to be It's all I want It's all I need Forever in your arms It's alright with me 'Cause right where I am's where I want to be Talk on the cell phone, checkin' her e-mail The fax is a way of life She's shoppin' at home with QVC on And surfin' on-line And right where I am Is where I want to be It's all I want It's all I need Forever in your arms It's alright with me 'Cause right where I am's where I want to be Satellite feed out in the country Oh what a way of life Turn off the tv Shut down the pc And click off the world tonight And right where I am Is where I want to be It's all I want It's all I need Forever in your arms It's alright with me 'Cause right where I am's where I want to be Yeah Right where I am Where I want to be Subways runnin' under the city Satellite feed out in the country Each to his own I feel at home Standin' on this mountain high Right where I am Right where I am, where I want to be Where I want to be Alabama"
        ],
        [
         "18",
         "It's Hard",
         "Any tough can fight, few can play Any tough can fight, few can play Any fool can fall, few can lay Any fool can fall, few can lay Any stud can reproduce, few can please Any stud can reproduce, few can please Anyone can pay, few can lease Anyone can pay, few can lease It's hard It's hard (It's a hard, hard hand to hold (it's a hard, hard hand to hold It's a hard land to control) It's a hard land to control) Any man can claim, few can find Any man can claim, few can find Any girl can blink, few can lie Any girl can blink, few can lie Anyone can promise, few can raise Anyone can promise, few can raise Anyone can try, but a few can stay Anyone can try, but a few can stay Any brain can hide, few can stand Any brain can hide, few can stand Any kid can fly, few can land Any kid can fly, few can land Any gang can scatter, few can form Any gang can scatter, few can form Any kid can chatter, few can inform Any kid can chatter, few can inform It's hard It's very, very, very, very hard, so very hard It's hard It's very, very, very, very hard, so very hard It's hard It's hard (It's a hard, hard hand to hold (It's a hard, hard hand to hold It's a hard land to control) It's a hard land to control) Any soul can sleep, few can die Any soul can sleep, few can die Any wimp can weep, few can cry Any wimp can weep, few can cry Everyone complains, few can state Everyone complains, few can state Anyone can stop, few can wait Anyone can stop, few can wait It's hard It's very, very, very, very hard, so very hard It's hard It's very, very, very, very hard, so very hard Anyone can do anything if they hold the right card Anyone can do anything if they hold the right card So, I'm thinking about my life now So, I'm thinking about my life now I'm thinking very hard I'm thinking very hard Deal me another hand, Lord, this one's very hard Deal me another hand, Lord, this one's very hard Deal me another hand, Lord, this one's very hard Deal me another hand, Lord, this one's very hard Who"
        ],
        [
         "19",
         "Hallelujah",
         "Well I heard there was a secret chord That David played, and it pleased the lord But you don't really care for music, do ya? Well it goes like this, the fourth, the fifth The minor fall and the major lift The baffled king composing hallelujah Hallelujah, hallelujah, hallelujah, hallelujah Your faith was strong but you needed proof You saw her bathing on the roof Her beauty and the moonlight overthrew you She tied you to a kitchen chair She broke your throne, she cut your hair And from your lips she drew the hallelujah Hallelujah, hallelujah, hallelujah, hallelujah Maybe there's a god above All I ever learned from love Was how to shoot somebody who outdrew you And it's not a cry you can hear at night Not somebody who's seen the light It's a cold and it's a broken hallelujah Hallelujah, hallelujah, hallelujah, hallelujah Hallelujah Justin Timberlake"
        ]
       ],
       "shape": {
        "columns": 2,
        "rows": 20
       }
      },
      "text/html": [
       "<div>\n",
       "<style scoped>\n",
       "    .dataframe tbody tr th:only-of-type {\n",
       "        vertical-align: middle;\n",
       "    }\n",
       "\n",
       "    .dataframe tbody tr th {\n",
       "        vertical-align: top;\n",
       "    }\n",
       "\n",
       "    .dataframe thead th {\n",
       "        text-align: right;\n",
       "    }\n",
       "</style>\n",
       "<table border=\"1\" class=\"dataframe\">\n",
       "  <thead>\n",
       "    <tr style=\"text-align: right;\">\n",
       "      <th></th>\n",
       "      <th>song</th>\n",
       "      <th>tags</th>\n",
       "    </tr>\n",
       "  </thead>\n",
       "  <tbody>\n",
       "    <tr>\n",
       "      <th>0</th>\n",
       "      <td>Right Or Wrong</td>\n",
       "      <td>Like to have you 'round With all the lies that...</td>\n",
       "    </tr>\n",
       "    <tr>\n",
       "      <th>1</th>\n",
       "      <td>This Little Light Of Mine</td>\n",
       "      <td>This Little Light of Mine (Light of Mine), I'm...</td>\n",
       "    </tr>\n",
       "    <tr>\n",
       "      <th>2</th>\n",
       "      <td>Dance, Dance</td>\n",
       "      <td>She says she's no good with words but I'm wors...</td>\n",
       "    </tr>\n",
       "    <tr>\n",
       "      <th>3</th>\n",
       "      <td>Easy Rider</td>\n",
       "      <td>Hey mama, mama, come a look at sister, She's a...</td>\n",
       "    </tr>\n",
       "    <tr>\n",
       "      <th>4</th>\n",
       "      <td>Peak Hour</td>\n",
       "      <td>I see it all through my window it seems. Never...</td>\n",
       "    </tr>\n",
       "    <tr>\n",
       "      <th>5</th>\n",
       "      <td>Crazier</td>\n",
       "      <td>The more I take a look inside, the more I'm fr...</td>\n",
       "    </tr>\n",
       "    <tr>\n",
       "      <th>6</th>\n",
       "      <td>Temptation</td>\n",
       "      <td>We got it all but it ain't enough No, we're ne...</td>\n",
       "    </tr>\n",
       "    <tr>\n",
       "      <th>7</th>\n",
       "      <td>Kiss Me At Midnight</td>\n",
       "      <td>Kiss me at midnight 5...4...3...2...1 Kiss me ...</td>\n",
       "    </tr>\n",
       "    <tr>\n",
       "      <th>8</th>\n",
       "      <td>Little Black Sandals</td>\n",
       "      <td>I'm being dragged down, down by the hand The h...</td>\n",
       "    </tr>\n",
       "    <tr>\n",
       "      <th>9</th>\n",
       "      <td>I Keep Dreaming Of You All The Time</td>\n",
       "      <td>In my dreams an old friend came to see you Rig...</td>\n",
       "    </tr>\n",
       "    <tr>\n",
       "      <th>10</th>\n",
       "      <td>Blood In My Eyes</td>\n",
       "      <td>Woke up this morning, feeling blue Seen a good...</td>\n",
       "    </tr>\n",
       "    <tr>\n",
       "      <th>11</th>\n",
       "      <td>I Am I</td>\n",
       "      <td>Beating with life you promised life, Security,...</td>\n",
       "    </tr>\n",
       "    <tr>\n",
       "      <th>12</th>\n",
       "      <td>Hold On</td>\n",
       "      <td>There's blacks with knives and whites with gun...</td>\n",
       "    </tr>\n",
       "    <tr>\n",
       "      <th>13</th>\n",
       "      <td>Pinball Cha Cha</td>\n",
       "      <td>Welcome In Lucy's Bar Hey you gentlemen over t...</td>\n",
       "    </tr>\n",
       "    <tr>\n",
       "      <th>14</th>\n",
       "      <td>Kill It</td>\n",
       "      <td>I'm your maker Mold your mind Idea-creator Bia...</td>\n",
       "    </tr>\n",
       "    <tr>\n",
       "      <th>15</th>\n",
       "      <td>I Feel For You</td>\n",
       "      <td>Something inside, My heart, And it feels like ...</td>\n",
       "    </tr>\n",
       "    <tr>\n",
       "      <th>16</th>\n",
       "      <td>Dareh Meyod</td>\n",
       "      <td>Tuesday's coming my baby I told you Wednesday ...</td>\n",
       "    </tr>\n",
       "    <tr>\n",
       "      <th>17</th>\n",
       "      <td>Right Where I Am</td>\n",
       "      <td>Subways runnin' under the city Condos reachin'...</td>\n",
       "    </tr>\n",
       "    <tr>\n",
       "      <th>18</th>\n",
       "      <td>It's Hard</td>\n",
       "      <td>Any tough can fight, few can play Any tough ca...</td>\n",
       "    </tr>\n",
       "    <tr>\n",
       "      <th>19</th>\n",
       "      <td>Hallelujah</td>\n",
       "      <td>Well I heard there was a secret chord That Dav...</td>\n",
       "    </tr>\n",
       "  </tbody>\n",
       "</table>\n",
       "</div>"
      ],
      "text/plain": [
       "                                   song  \\\n",
       "0                        Right Or Wrong   \n",
       "1             This Little Light Of Mine   \n",
       "2                          Dance, Dance   \n",
       "3                            Easy Rider   \n",
       "4                             Peak Hour   \n",
       "5                               Crazier   \n",
       "6                            Temptation   \n",
       "7                   Kiss Me At Midnight   \n",
       "8                  Little Black Sandals   \n",
       "9   I Keep Dreaming Of You All The Time   \n",
       "10                     Blood In My Eyes   \n",
       "11                               I Am I   \n",
       "12                              Hold On   \n",
       "13                      Pinball Cha Cha   \n",
       "14                              Kill It   \n",
       "15                       I Feel For You   \n",
       "16                          Dareh Meyod   \n",
       "17                     Right Where I Am   \n",
       "18                            It's Hard   \n",
       "19                           Hallelujah   \n",
       "\n",
       "                                                 tags  \n",
       "0   Like to have you 'round With all the lies that...  \n",
       "1   This Little Light of Mine (Light of Mine), I'm...  \n",
       "2   She says she's no good with words but I'm wors...  \n",
       "3   Hey mama, mama, come a look at sister, She's a...  \n",
       "4   I see it all through my window it seems. Never...  \n",
       "5   The more I take a look inside, the more I'm fr...  \n",
       "6   We got it all but it ain't enough No, we're ne...  \n",
       "7   Kiss me at midnight 5...4...3...2...1 Kiss me ...  \n",
       "8   I'm being dragged down, down by the hand The h...  \n",
       "9   In my dreams an old friend came to see you Rig...  \n",
       "10  Woke up this morning, feeling blue Seen a good...  \n",
       "11  Beating with life you promised life, Security,...  \n",
       "12  There's blacks with knives and whites with gun...  \n",
       "13  Welcome In Lucy's Bar Hey you gentlemen over t...  \n",
       "14  I'm your maker Mold your mind Idea-creator Bia...  \n",
       "15  Something inside, My heart, And it feels like ...  \n",
       "16  Tuesday's coming my baby I told you Wednesday ...  \n",
       "17  Subways runnin' under the city Condos reachin'...  \n",
       "18  Any tough can fight, few can play Any tough ca...  \n",
       "19  Well I heard there was a secret chord That Dav...  "
      ]
     },
     "execution_count": 46,
     "metadata": {},
     "output_type": "execute_result"
    }
   ],
   "source": [
    "# Sampling 25,000 random rows from the DataFrame\n",
    "df = new_df.sample(n=10000, random_state=42).reset_index(drop=True)\n",
    "df.head(20)"
   ]
  },
  {
   "cell_type": "code",
   "execution_count": 47,
   "id": "dbe4c53b",
   "metadata": {},
   "outputs": [
    {
     "name": "stdout",
     "output_type": "stream",
     "text": [
      "/Library/Frameworks/Python.framework/Versions/3.12/lib/python3.12/site-packages/nltk/__init__.py\n"
     ]
    }
   ],
   "source": [
    "import nltk\n",
    "print(nltk.__file__)"
   ]
  },
  {
   "cell_type": "code",
   "execution_count": 48,
   "id": "30eaf221",
   "metadata": {},
   "outputs": [
    {
     "name": "stdout",
     "output_type": "stream",
     "text": [
      "love\n",
      "love\n"
     ]
    }
   ],
   "source": [
    "from nltk.stem.porter import PorterStemmer\n",
    "ps=PorterStemmer()\n",
    "print(ps.stem(\"loved\"))\n",
    "print(ps.stem(\"loving\"))"
   ]
  },
  {
   "cell_type": "code",
   "execution_count": 49,
   "id": "f5ed1376",
   "metadata": {},
   "outputs": [],
   "source": [
    "def stem(text):\n",
    "    y=[]\n",
    "    for i in text.split():\n",
    "        y.append(ps.stem(i))\n",
    "    return \" \".join(y)"
   ]
  },
  {
   "cell_type": "code",
   "execution_count": 50,
   "id": "b1555c8a",
   "metadata": {},
   "outputs": [
    {
     "data": {
      "application/vnd.microsoft.datawrangler.viewer.v0+json": {
       "columns": [
        {
         "name": "index",
         "rawType": "int64",
         "type": "integer"
        },
        {
         "name": "song",
         "rawType": "object",
         "type": "string"
        },
        {
         "name": "tags",
         "rawType": "object",
         "type": "string"
        }
       ],
       "conversionMethod": "pd.DataFrame",
       "ref": "1b46b17a-9866-468c-a68f-df317d910949",
       "rows": [
        [
         "6494",
         "Tennessee Waltz",
         "i wa danc with my babi to that tennesse waltz when an old friend i happen happen to see well i didn't know i wa go to see him i introduc him to my babi while, while they kept on play that friend stole my sweetheart away from me. ye he did i remember, yeah, that night of that beauti tennesse waltz oh you know, you'll never know you'll never know just how much i'v lost, ooh i lost my baby, my sweet babi while, while they kept on play that beauti tenne- tennesse waltz yeah yeah yeah now i remember, yeah, that night of that beauti tenness waltz oh you know, you know, you know just how much i'v lost ooh honey, i lost too much, yeah i lost my baby, my sweet babi while, while they kept on play that beautiful, wonder that marvelous, yeah man that gloriou that cotton pickin' tenne- tennesse waltz i lost my baby, my my my my babi oti red"
        ],
        [
         "7085",
         "Every Day Family Man",
         "you'v heard song about the bright light of the citi and song about the hero of our land but there' one guy around who never let us down the everi day famili man he work hard to pay the mortgag and the tax and there' lot of thing that he don't understand while we spend million on the moon when the world may blow out soon the everi day famili man you won't read it in the headlin of the paper the thing he doe with hi two callous hand but everi night when he come home he' a king of hi rome the everi day famili man [ piano ] he won't be there when award and all are given but he' close by when hi neighbor need a hand when he tell hi kid goodnight the whole world for him is right the everi day famili man yeah you won't read it in the headlines... the everi day famili man conway twitti"
        ],
        [
         "9714",
         "Puppy Love",
         "it' not puppi love puppy, puppy, puppi love it' not puppi love puppy, puppy, puppi love you make me wanna be like one of those girl from the 1950' wear those big pearl i'll cook you breakfast coffe on your desk, ye i might burn your toast but baby, i'm still the bestest it' not puppi love puppy, puppy, puppi love it' not puppi love puppy, puppy, puppi love you make me wanna be like one of those girl on the color tv, it wa a new world the dick van dyke show we'r cher and bono the way i sing 'i got you babe' make you say \"oh no\" caus you'r the class presid without jacki o and i'm sing 'happi birthday' like marilyn monro one, thi is not a school girl crush, no two, thi is not puppi love, uh-uh it' the real thing when you told me you love me promis i'll never see arthur or bobby, babi one, thi is not a school girl thing, no two, what about the diamond ring? uh-uh everyon know i'm like jessica rabbit i'm your lead lady, i gotta have it, babi it' not puppi love puppy, puppy, puppi love it' not puppi love puppy, puppy, puppi love you make me wanna be like one of those girl calendar pin-up queen in platinum curl i'll do my summer pose golden sand between my toe you can pack my favorit snack a veuv clicquot and ho ho' you'r everybody' hero and you'r hit it home while i'm sing for the soldier like marilyn monro one, thi is not a school girl crush, no two, thi is not puppi love, uh-uh it' the real thing when you told me you love me promis i'll never see arthur or bobby, babi one, thi is not a school girl thing, no two, what about the diamond ring? uh-uh everyon know i'm like jessica rabbit i'm your lead lady, i gotta have it, babi baby, babi and if i call you on the telephon i might overdos caus i'm strong but i'm lone like marilyn monro thi is not a school girl crush thi is not puppi love it' the real thing when you told me you love me what ever happen to hold me and trust me, baby? one, thi is not a school girl crush, no two, thi is not puppi love, uh-uh it' the real thing when you told me you love me promis i'll never see arthur or bobby, babi one, thi is not a school girl thing, no two, what about the diamond ring? uh-uh everyon know i'm like jessica rabbit i'm your lead lady, i gotta have it, babi it' not puppi love puppy, puppy, puppi love it' not puppi love puppy, puppy, puppi love it' not puppi love puppy, puppy, puppi love it' not puppi love puppy, puppy, puppi love lana del rey"
        ],
        [
         "6551",
         "Place In Your Heart",
         "is there a place in your heart left for me? is there some space where the parkin' sign say free? mayb there' just one littl spot mayb some corner that you forgot is there a place in your left for me? well i know you got so mani you can choos from there' alway flower lyin' by your door i betcha your phone it never stop bet you'r the queen at the local hop i bet you get valentin but never keep the score. is there a place in your heart left for me? is there some space where the parkin' sign say free? mayb there' just one littl spot mayb some corner that you forgot is there a space in your heart left for me? i betcha your phone it never stop i know your the queen at the local hop i bet you get valentin but never keep the score is there a place in your heart left for me? is there some space where the parkin' sign say free mayb there' just one littl spot mayb some corner that you forgot is there a place in your heart made for me? is there a place in your heart made for me? is there a place in your heart made for me? nazareth"
        ],
        [
         "6969",
         "Live Those Songs",
         "saw him sittin' on a sidewalk in fresno... braid hair and a tye-di t-shirt on. talkin' to himself about vietnam, about the tour he did and the deal he got. he said,\"thi world ain't the same if you ask me. if i could be somewher else, i'd tell you where i'd be... [chorus:] i'd be rollin' on a river with creedence. stealin' kiss from peggi sue. i'd be knee-deep in sand on a panama beach in the spring of '72. i'd be wastin' away on the dock of the bay, watchin' the tide roll in. he said,\"what i wouldn't give just to live those song again.\" saw him workin' the counter at walgreens... with a new haircut and a bachelor' degree. talkin' to himself about hi raw deal, cussin' uncl sam and the gi bill. he said,\"thi world ain't the same if you ask me. if i could be somewher else, i'd tell you where i'd be... [chorus:] he said,\"thi world ain't the same if you ask me. if i could be somewher else, i'd tell you where i'd be... [chorus:] kenni chesney"
        ]
       ],
       "shape": {
        "columns": 2,
        "rows": 5
       }
      },
      "text/html": [
       "<div>\n",
       "<style scoped>\n",
       "    .dataframe tbody tr th:only-of-type {\n",
       "        vertical-align: middle;\n",
       "    }\n",
       "\n",
       "    .dataframe tbody tr th {\n",
       "        vertical-align: top;\n",
       "    }\n",
       "\n",
       "    .dataframe thead th {\n",
       "        text-align: right;\n",
       "    }\n",
       "</style>\n",
       "<table border=\"1\" class=\"dataframe\">\n",
       "  <thead>\n",
       "    <tr style=\"text-align: right;\">\n",
       "      <th></th>\n",
       "      <th>song</th>\n",
       "      <th>tags</th>\n",
       "    </tr>\n",
       "  </thead>\n",
       "  <tbody>\n",
       "    <tr>\n",
       "      <th>6494</th>\n",
       "      <td>Tennessee Waltz</td>\n",
       "      <td>i wa danc with my babi to that tennesse waltz ...</td>\n",
       "    </tr>\n",
       "    <tr>\n",
       "      <th>7085</th>\n",
       "      <td>Every Day Family Man</td>\n",
       "      <td>you'v heard song about the bright light of the...</td>\n",
       "    </tr>\n",
       "    <tr>\n",
       "      <th>9714</th>\n",
       "      <td>Puppy Love</td>\n",
       "      <td>it' not puppi love puppy, puppy, puppi love it...</td>\n",
       "    </tr>\n",
       "    <tr>\n",
       "      <th>6551</th>\n",
       "      <td>Place In Your Heart</td>\n",
       "      <td>is there a place in your heart left for me? is...</td>\n",
       "    </tr>\n",
       "    <tr>\n",
       "      <th>6969</th>\n",
       "      <td>Live Those Songs</td>\n",
       "      <td>saw him sittin' on a sidewalk in fresno... bra...</td>\n",
       "    </tr>\n",
       "  </tbody>\n",
       "</table>\n",
       "</div>"
      ],
      "text/plain": [
       "                      song                                               tags\n",
       "6494       Tennessee Waltz  i wa danc with my babi to that tennesse waltz ...\n",
       "7085  Every Day Family Man  you'v heard song about the bright light of the...\n",
       "9714            Puppy Love  it' not puppi love puppy, puppy, puppi love it...\n",
       "6551   Place In Your Heart  is there a place in your heart left for me? is...\n",
       "6969      Live Those Songs  saw him sittin' on a sidewalk in fresno... bra..."
      ]
     },
     "execution_count": 50,
     "metadata": {},
     "output_type": "execute_result"
    }
   ],
   "source": [
    "df['tags']=df['tags'].apply(stem)\n",
    "df.sample(5)"
   ]
  },
  {
   "cell_type": "code",
   "execution_count": 51,
   "id": "9a6e0a5f",
   "metadata": {},
   "outputs": [],
   "source": [
    "from sklearn.feature_extraction.text import CountVectorizer\n",
    "cv = CountVectorizer(max_features=5000,stop_words='english')"
   ]
  },
  {
   "cell_type": "code",
   "execution_count": 52,
   "id": "2225dd8a",
   "metadata": {},
   "outputs": [
    {
     "data": {
      "text/plain": [
       "(10000, 5000)"
      ]
     },
     "execution_count": 52,
     "metadata": {},
     "output_type": "execute_result"
    }
   ],
   "source": [
    "vector = cv.fit_transform(df['tags']).toarray()\n",
    "vector.shape"
   ]
  },
  {
   "cell_type": "code",
   "execution_count": 53,
   "id": "13e6f1cb",
   "metadata": {},
   "outputs": [
    {
     "data": {
      "text/plain": [
       "array([[1.        , 0.        , 0.14845491, ..., 0.01707398, 0.11175167,\n",
       "        0.14492754],\n",
       "       [0.        , 1.        , 0.04634667, ..., 0.04336229, 0.        ,\n",
       "        0.08169317],\n",
       "       [0.14845491, 0.04634667, 1.        , ..., 0.03597849, 0.11701539,\n",
       "        0.06532016],\n",
       "       ...,\n",
       "       [0.01707398, 0.04336229, 0.03597849, ..., 1.        , 0.        ,\n",
       "        0.00731742],\n",
       "       [0.11175167, 0.        , 0.11701539, ..., 0.        , 1.        ,\n",
       "        0.04966741],\n",
       "       [0.14492754, 0.08169317, 0.06532016, ..., 0.00731742, 0.04966741,\n",
       "        1.        ]])"
      ]
     },
     "execution_count": 53,
     "metadata": {},
     "output_type": "execute_result"
    }
   ],
   "source": [
    "from sklearn.metrics.pairwise import cosine_similarity\n",
    "similarity = cosine_similarity(vector)\n",
    "similarity"
   ]
  },
  {
   "cell_type": "code",
   "execution_count": 54,
   "id": "bb3a1644",
   "metadata": {},
   "outputs": [
    {
     "name": "stdout",
     "output_type": "stream",
     "text": [
      "0                          Right Or Wrong\n",
      "1               This Little Light Of Mine\n",
      "2                            Dance, Dance\n",
      "3                              Easy Rider\n",
      "4                               Peak Hour\n",
      "5                                 Crazier\n",
      "6                              Temptation\n",
      "7                     Kiss Me At Midnight\n",
      "8                    Little Black Sandals\n",
      "9     I Keep Dreaming Of You All The Time\n",
      "10                       Blood In My Eyes\n",
      "11                                 I Am I\n",
      "12                                Hold On\n",
      "13                        Pinball Cha Cha\n",
      "14                                Kill It\n",
      "15                         I Feel For You\n",
      "16                            Dareh Meyod\n",
      "17                       Right Where I Am\n",
      "18                              It's Hard\n",
      "19                             Hallelujah\n",
      "Name: song, dtype: object\n"
     ]
    }
   ],
   "source": [
    "print(df['song'].head(20))"
   ]
  },
  {
   "cell_type": "code",
   "execution_count": 55,
   "id": "60d72870",
   "metadata": {},
   "outputs": [],
   "source": [
    "def recommend(song):\n",
    "    if song not in df['song'].values:\n",
    "        print(f\"'{song}' not found in the dataset.\")\n",
    "        return\n",
    "    index = df[df['song'] == song].index[0]\n",
    "    distances = sorted(list(enumerate(similarity[index])), reverse=True, key=lambda x: x[1])\n",
    "    for i in distances[1:6]:\n",
    "        print(df.iloc[i[0]]['song'])\n"
   ]
  },
  {
   "cell_type": "code",
   "execution_count": 62,
   "id": "22e7d58b",
   "metadata": {},
   "outputs": [
    {
     "name": "stdout",
     "output_type": "stream",
     "text": [
      "Try one of these songs:\n",
      "['Romeo And The Lonely Girl', 'Mr. Bake-O', 'Monkey', 'Sugar Daddy', 'Back Around', 'Christmas Island', \"Tryin'\", 'Black Hill Sanitarium', 'Love Will Keep You Up All Night', 'Damn Girl']\n"
     ]
    }
   ],
   "source": [
    "print(\"Try one of these songs:\")\n",
    "print(df['song'].sample(10).tolist())"
   ]
  },
  {
   "cell_type": "code",
   "execution_count": 63,
   "id": "493ee541",
   "metadata": {},
   "outputs": [
    {
     "name": "stdout",
     "output_type": "stream",
     "text": [
      "I Got You Babe\n",
      "Blow Your House Down\n",
      "Prayer For Peace\n",
      "She's Got The Answer\n",
      "Desert Blues\n"
     ]
    }
   ],
   "source": [
    "recommend('Sugar Daddy')"
   ]
  },
  {
   "cell_type": "code",
   "execution_count": 66,
   "id": "89a6faec",
   "metadata": {},
   "outputs": [],
   "source": [
    "import pickle"
   ]
  },
  {
   "cell_type": "code",
   "execution_count": 68,
   "id": "0c8ce198",
   "metadata": {},
   "outputs": [],
   "source": [
    "pickle.dump(df,open('music.pkl','wb'))\n",
    "pickle.dump(similarity,open('similarity.pkl','wb'))"
   ]
  }
 ],
 "metadata": {
  "kernelspec": {
   "display_name": "Python 3",
   "language": "python",
   "name": "python3"
  },
  "language_info": {
   "codemirror_mode": {
    "name": "ipython",
    "version": 3
   },
   "file_extension": ".py",
   "mimetype": "text/x-python",
   "name": "python",
   "nbconvert_exporter": "python",
   "pygments_lexer": "ipython3",
   "version": "3.12.4"
  }
 },
 "nbformat": 4,
 "nbformat_minor": 5
}
